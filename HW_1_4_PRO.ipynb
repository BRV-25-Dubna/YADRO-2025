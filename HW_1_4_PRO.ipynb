{
  "cells": [
    {
      "cell_type": "markdown",
      "id": "8277ca02",
      "metadata": {
        "id": "8277ca02",
        "papermill": {
          "duration": 0.112743,
          "end_time": "2022-09-17T00:12:57.265328",
          "exception": false,
          "start_time": "2022-09-17T00:12:57.152585",
          "status": "completed"
        },
        "tags": []
      },
      "source": [
        "\n",
        "# Проверка гипотез с помощью python."
      ]
    },
    {
      "cell_type": "markdown",
      "id": "ed2f4a30",
      "metadata": {
        "id": "ed2f4a30",
        "papermill": {
          "duration": 0.109327,
          "end_time": "2022-09-17T00:12:57.963155",
          "exception": false,
          "start_time": "2022-09-17T00:12:57.853828",
          "status": "completed"
        },
        "tags": []
      },
      "source": [
        "## Задание\n",
        "\n",
        "* Выполнить проверку предложенной гипотезы\n",
        "* Выполнить проверку статистической гипотезы для проверки нормальности числовых признаков\n",
        "* Проверка мультиколлинеарности\n",
        "* Все статистические тесты должны быть выполнены с 95%-м уровнем достоверности (т.е. значение р < 0,05)"
      ]
    },
    {
      "cell_type": "markdown",
      "id": "b36dd14f-cd82-46c1-87de-cde64db77940",
      "metadata": {
        "id": "b36dd14f-cd82-46c1-87de-cde64db77940",
        "papermill": {
          "duration": 0.106947,
          "end_time": "2022-09-17T00:13:02.034149",
          "exception": false,
          "start_time": "2022-09-17T00:13:01.927202",
          "status": "completed"
        },
        "tags": []
      },
      "source": [
        "## Датасет"
      ]
    },
    {
      "cell_type": "markdown",
      "id": "ab7d97da-ee9e-4cd5-8d01-f75481a99393",
      "metadata": {
        "id": "ab7d97da-ee9e-4cd5-8d01-f75481a99393"
      },
      "source": [
        "Как данные представлены заказчиком:"
      ]
    },
    {
      "cell_type": "markdown",
      "id": "746dd87c-32f5-4ee4-97f3-ace09b9661ae",
      "metadata": {
        "id": "746dd87c-32f5-4ee4-97f3-ace09b9661ae",
        "papermill": {
          "duration": 0.107761,
          "end_time": "2022-09-17T00:13:02.248931",
          "exception": false,
          "start_time": "2022-09-17T00:13:02.141170",
          "status": "completed"
        },
        "tags": []
      },
      "source": [
        "<table>\n",
        "<thead><tr>\n",
        "<th><strong>Feature Name</strong></th>\n",
        "<th><strong>Description</strong></th>\n",
        "<th><strong>Data Type</strong></th>\n",
        "</tr>\n",
        "</thead>\n",
        "<tbody>\n",
        "<tr>\n",
        "<td>customerID</td>\n",
        "<td>Содержит идентификатор клиента</td>\n",
        "<td>categorical</td>\n",
        "</tr>\n",
        "<tr>\n",
        "<td>gender</td>\n",
        "<td>Пол клиента</td>\n",
        "<td>categorical</td>\n",
        "</tr>\n",
        "<tr>\n",
        "<td>SeniorCitizen</td>\n",
        "<td>Является ли клиент пожилым гражданином</td>\n",
        "<td>numeric, int</td>\n",
        "</tr>\n",
        "<tr>\n",
        "<td>Partner</td>\n",
        "<td>Есть ли у клиента партнер</td>\n",
        "<td>categorical</td>\n",
        "</tr>\n",
        "<tr>\n",
        "<td>Dependents</td>\n",
        "<td>Является ли клиент кормильцем</td>\n",
        "<td>categorical</td>\n",
        "</tr>\n",
        "<tr>\n",
        "<td>tenure</td>\n",
        "<td>Количество месяцев, в течение которых клиент оставался в компании</td>\n",
        "<td>numeric, int</td>\n",
        "</tr>\n",
        "<tr>\n",
        "<td>PhoneService</td>\n",
        "<td>Есть ли у клиента телефонная связь</td>\n",
        "<td>categorical</td>\n",
        "</tr>\n",
        "<tr>\n",
        "<td>MultipleLines</td>\n",
        "<td>Есть ли у клиента несколько линий</td>\n",
        "<td>categorical</td>\n",
        "</tr>\n",
        "<tr>\n",
        "<td>InternetService</td>\n",
        "<td>Интернет-провайдер клиента</td>\n",
        "<td>categorical</td>\n",
        "</tr>\n",
        "<tr>\n",
        "<td>OnlineSecurity</td>\n",
        "<td>Есть ли у клиента онлайн-безопасность</td>\n",
        "<td>categorical</td>\n",
        "</tr>\n",
        "<tr>\n",
        "<td>OnlineBackup</td>\n",
        "<td>Есть ли у клиента онлайн-резервное копирование</td>\n",
        "<td>categorical</td>\n",
        "</tr>\n",
        "<tr>\n",
        "<td>DeviceProtection</td>\n",
        "<td>Имеет ли клиент защиту устройства</td>\n",
        "<td>categorical</td>\n",
        "</tr>\n",
        "<tr>\n",
        "<td>TechSupport</td>\n",
        "<td>Есть ли у клиента техническая поддержка</td>\n",
        "<td>categorical</td>\n",
        "</tr>\n",
        "<tr>\n",
        "<td>streamingTV</td>\n",
        "<td>Есть ли у клиента потоковое телевидение</td>\n",
        "<td>categorical</td>\n",
        "</tr>\n",
        "<tr>\n",
        "<td>streamingMovies</td>\n",
        "<td>Есть ли у клиента стриминговые сервисы</td>\n",
        "<td>categorical</td>\n",
        "</tr>\n",
        "<tr>\n",
        "<td>Contract</td>\n",
        "<td>Срок действия контракта заказчика</td>\n",
        "<td>categorical</td>\n",
        "</tr>\n",
        "<tr>\n",
        "<td>PaperlessBilling</td>\n",
        "<td>Имеет ли клиент безналичные счета</td>\n",
        "<td>categorical</td>\n",
        "</tr>\n",
        "<tr>\n",
        "<td>PaymentMethod</td>\n",
        "<td>Способ оплаты клиента</td>\n",
        "<td>categorical</td>\n",
        "</tr>\n",
        "<tr>\n",
        "<td>MonthlyCharges</td>\n",
        "<td>Сумма, взимаемая с клиента ежемесячно </td>\n",
        "<td> numeric , int</td>\n",
        "</tr>\n",
        "<tr>\n",
        "<td>TotalCharges</td>\n",
        "<td>Общая сумма, списанная с клиента</td>\n",
        "<td>object</td>\n",
        "</tr>\n",
        "<tr>\n",
        "<td>Churn</td>\n",
        "<td>Ушел ли клиент</td>\n",
        "<td>categorical</td>\n",
        "</tr>\n",
        "</tbody>\n",
        "</table>"
      ]
    },
    {
      "cell_type": "markdown",
      "id": "08ae603f-bf76-4e2a-b7e0-cc8f4c48ea08",
      "metadata": {
        "id": "08ae603f-bf76-4e2a-b7e0-cc8f4c48ea08"
      },
      "source": [
        "Описание от заказчика:\n",
        "\n",
        "Каждая строка представляет клиента, каждый столбец содержит атрибуты клиента.\n",
        "\n",
        "Набор данных включает информацию :\n",
        "\n",
        "- Клиенты, которые ушли в течение последнего месяца — колонка называется `Churn`\n",
        "- Услуги, на которые подписался каждый клиент — телефон, несколько линий, интернет, онлайн-безопасность, резервное копирование, защита устройств, техническая поддержка, потоковое ТВ и фильмы.\n",
        "- Информация о счетах клиентов — как долго они являются клиентами, контракт, способ оплаты, безналичные счета, ежемесячные платежи и общая сумма платежей.\n",
        "- Демографическая информация о клиентах — пол, возраст, наличие партнеров и иждивенцев."
      ]
    },
    {
      "cell_type": "markdown",
      "id": "d5987f69",
      "metadata": {
        "id": "d5987f69",
        "papermill": {
          "duration": 0.104938,
          "end_time": "2022-09-17T00:12:58.405685",
          "exception": false,
          "start_time": "2022-09-17T00:12:58.300747",
          "status": "completed"
        },
        "tags": []
      },
      "source": [
        "## 1. Импорт Библиотек "
      ]
    },
    {
      "cell_type": "markdown",
      "id": "02b1ba32-c7a4-4cca-940c-2c26096652a5",
      "metadata": {
        "id": "02b1ba32-c7a4-4cca-940c-2c26096652a5"
      },
      "source": [
        "Импортируйте необходимые библиотеки"
      ]
    },
    {
      "cell_type": "code",
      "execution_count": 1,
      "id": "aced3dd7",
      "metadata": {
        "_kg_hide-input": true,
        "id": "aced3dd7",
        "papermill": {
          "duration": 2.648922,
          "end_time": "2022-09-17T00:13:01.160303",
          "exception": false,
          "start_time": "2022-09-17T00:12:58.511381",
          "status": "completed"
        },
        "tags": []
      },
      "outputs": [],
      "source": [
        "import numpy as np\n",
        "import pandas as pd\n",
        "import matplotlib.pyplot as plt\n",
        "pd.set_option('display.max_columns', None) # отобразить все колонки\n",
        "\n",
        "from scipy import stats"
      ]
    },
    {
      "cell_type": "markdown",
      "id": "a08aba17",
      "metadata": {
        "id": "a08aba17",
        "papermill": {
          "duration": 0.105855,
          "end_time": "2022-09-17T00:13:01.597528",
          "exception": false,
          "start_time": "2022-09-17T00:13:01.491673",
          "status": "completed"
        },
        "tags": []
      },
      "source": [
        "## Данные"
      ]
    },
    {
      "cell_type": "code",
      "execution_count": 2,
      "id": "423cbac6",
      "metadata": {
        "id": "423cbac6",
        "papermill": {
          "duration": 0.24658,
          "end_time": "2022-09-17T00:13:02.607322",
          "exception": false,
          "start_time": "2022-09-17T00:13:02.360742",
          "status": "completed"
        },
        "tags": []
      },
      "outputs": [
        {
          "data": {
            "text/html": [
              "<div>\n",
              "<style scoped>\n",
              "    .dataframe tbody tr th:only-of-type {\n",
              "        vertical-align: middle;\n",
              "    }\n",
              "\n",
              "    .dataframe tbody tr th {\n",
              "        vertical-align: top;\n",
              "    }\n",
              "\n",
              "    .dataframe thead th {\n",
              "        text-align: right;\n",
              "    }\n",
              "</style>\n",
              "<table border=\"1\" class=\"dataframe\">\n",
              "  <thead>\n",
              "    <tr style=\"text-align: right;\">\n",
              "      <th></th>\n",
              "      <th>customerID</th>\n",
              "      <th>gender</th>\n",
              "      <th>SeniorCitizen</th>\n",
              "      <th>Partner</th>\n",
              "      <th>Dependents</th>\n",
              "      <th>tenure</th>\n",
              "      <th>PhoneService</th>\n",
              "      <th>MultipleLines</th>\n",
              "      <th>InternetService</th>\n",
              "      <th>OnlineSecurity</th>\n",
              "      <th>OnlineBackup</th>\n",
              "      <th>DeviceProtection</th>\n",
              "      <th>TechSupport</th>\n",
              "      <th>StreamingTV</th>\n",
              "      <th>StreamingMovies</th>\n",
              "      <th>Contract</th>\n",
              "      <th>PaperlessBilling</th>\n",
              "      <th>PaymentMethod</th>\n",
              "      <th>MonthlyCharges</th>\n",
              "      <th>TotalCharges</th>\n",
              "      <th>Churn</th>\n",
              "    </tr>\n",
              "  </thead>\n",
              "  <tbody>\n",
              "    <tr>\n",
              "      <th>0</th>\n",
              "      <td>7590-VHVEG</td>\n",
              "      <td>Female</td>\n",
              "      <td>0</td>\n",
              "      <td>Yes</td>\n",
              "      <td>No</td>\n",
              "      <td>1</td>\n",
              "      <td>No</td>\n",
              "      <td>No phone service</td>\n",
              "      <td>DSL</td>\n",
              "      <td>No</td>\n",
              "      <td>Yes</td>\n",
              "      <td>No</td>\n",
              "      <td>No</td>\n",
              "      <td>No</td>\n",
              "      <td>No</td>\n",
              "      <td>Month-to-month</td>\n",
              "      <td>Yes</td>\n",
              "      <td>Electronic check</td>\n",
              "      <td>29.85</td>\n",
              "      <td>29.85</td>\n",
              "      <td>No</td>\n",
              "    </tr>\n",
              "    <tr>\n",
              "      <th>1</th>\n",
              "      <td>5575-GNVDE</td>\n",
              "      <td>Male</td>\n",
              "      <td>0</td>\n",
              "      <td>No</td>\n",
              "      <td>No</td>\n",
              "      <td>34</td>\n",
              "      <td>Yes</td>\n",
              "      <td>No</td>\n",
              "      <td>DSL</td>\n",
              "      <td>Yes</td>\n",
              "      <td>No</td>\n",
              "      <td>Yes</td>\n",
              "      <td>No</td>\n",
              "      <td>No</td>\n",
              "      <td>No</td>\n",
              "      <td>One year</td>\n",
              "      <td>No</td>\n",
              "      <td>Mailed check</td>\n",
              "      <td>56.95</td>\n",
              "      <td>1889.5</td>\n",
              "      <td>No</td>\n",
              "    </tr>\n",
              "    <tr>\n",
              "      <th>2</th>\n",
              "      <td>3668-QPYBK</td>\n",
              "      <td>Male</td>\n",
              "      <td>0</td>\n",
              "      <td>No</td>\n",
              "      <td>No</td>\n",
              "      <td>2</td>\n",
              "      <td>Yes</td>\n",
              "      <td>No</td>\n",
              "      <td>DSL</td>\n",
              "      <td>Yes</td>\n",
              "      <td>Yes</td>\n",
              "      <td>No</td>\n",
              "      <td>No</td>\n",
              "      <td>No</td>\n",
              "      <td>No</td>\n",
              "      <td>Month-to-month</td>\n",
              "      <td>Yes</td>\n",
              "      <td>Mailed check</td>\n",
              "      <td>53.85</td>\n",
              "      <td>108.15</td>\n",
              "      <td>Yes</td>\n",
              "    </tr>\n",
              "    <tr>\n",
              "      <th>3</th>\n",
              "      <td>7795-CFOCW</td>\n",
              "      <td>Male</td>\n",
              "      <td>0</td>\n",
              "      <td>No</td>\n",
              "      <td>No</td>\n",
              "      <td>45</td>\n",
              "      <td>No</td>\n",
              "      <td>No phone service</td>\n",
              "      <td>DSL</td>\n",
              "      <td>Yes</td>\n",
              "      <td>No</td>\n",
              "      <td>Yes</td>\n",
              "      <td>Yes</td>\n",
              "      <td>No</td>\n",
              "      <td>No</td>\n",
              "      <td>One year</td>\n",
              "      <td>No</td>\n",
              "      <td>Bank transfer (automatic)</td>\n",
              "      <td>42.30</td>\n",
              "      <td>1840.75</td>\n",
              "      <td>No</td>\n",
              "    </tr>\n",
              "    <tr>\n",
              "      <th>4</th>\n",
              "      <td>9237-HQITU</td>\n",
              "      <td>Female</td>\n",
              "      <td>0</td>\n",
              "      <td>No</td>\n",
              "      <td>No</td>\n",
              "      <td>2</td>\n",
              "      <td>Yes</td>\n",
              "      <td>No</td>\n",
              "      <td>Fiber optic</td>\n",
              "      <td>No</td>\n",
              "      <td>No</td>\n",
              "      <td>No</td>\n",
              "      <td>No</td>\n",
              "      <td>No</td>\n",
              "      <td>No</td>\n",
              "      <td>Month-to-month</td>\n",
              "      <td>Yes</td>\n",
              "      <td>Electronic check</td>\n",
              "      <td>70.70</td>\n",
              "      <td>151.65</td>\n",
              "      <td>Yes</td>\n",
              "    </tr>\n",
              "  </tbody>\n",
              "</table>\n",
              "</div>"
            ],
            "text/plain": [
              "   customerID  gender  SeniorCitizen Partner Dependents  tenure PhoneService  \\\n",
              "0  7590-VHVEG  Female              0     Yes         No       1           No   \n",
              "1  5575-GNVDE    Male              0      No         No      34          Yes   \n",
              "2  3668-QPYBK    Male              0      No         No       2          Yes   \n",
              "3  7795-CFOCW    Male              0      No         No      45           No   \n",
              "4  9237-HQITU  Female              0      No         No       2          Yes   \n",
              "\n",
              "      MultipleLines InternetService OnlineSecurity OnlineBackup  \\\n",
              "0  No phone service             DSL             No          Yes   \n",
              "1                No             DSL            Yes           No   \n",
              "2                No             DSL            Yes          Yes   \n",
              "3  No phone service             DSL            Yes           No   \n",
              "4                No     Fiber optic             No           No   \n",
              "\n",
              "  DeviceProtection TechSupport StreamingTV StreamingMovies        Contract  \\\n",
              "0               No          No          No              No  Month-to-month   \n",
              "1              Yes          No          No              No        One year   \n",
              "2               No          No          No              No  Month-to-month   \n",
              "3              Yes         Yes          No              No        One year   \n",
              "4               No          No          No              No  Month-to-month   \n",
              "\n",
              "  PaperlessBilling              PaymentMethod  MonthlyCharges TotalCharges  \\\n",
              "0              Yes           Electronic check           29.85        29.85   \n",
              "1               No               Mailed check           56.95       1889.5   \n",
              "2              Yes               Mailed check           53.85       108.15   \n",
              "3               No  Bank transfer (automatic)           42.30      1840.75   \n",
              "4              Yes           Electronic check           70.70       151.65   \n",
              "\n",
              "  Churn  \n",
              "0    No  \n",
              "1    No  \n",
              "2   Yes  \n",
              "3    No  \n",
              "4   Yes  "
            ]
          },
          "execution_count": 2,
          "metadata": {},
          "output_type": "execute_result"
        }
      ],
      "source": [
        "df = pd.read_csv(r\"https://lhd8ts4trw.a.trbcdn.net/cdn/yusuciqe45/presentations/data_science/exercise/1_4pro/churn.csv\")\n",
        "df.head()"
      ]
    },
    {
      "cell_type": "markdown",
      "id": "59d8f6d7",
      "metadata": {
        "id": "59d8f6d7",
        "papermill": {
          "duration": 0.110182,
          "end_time": "2022-09-17T00:13:04.215152",
          "exception": false,
          "start_time": "2022-09-17T00:13:04.104970",
          "status": "completed"
        },
        "tags": []
      },
      "source": [
        "## 2. Описательный анализ данных"
      ]
    },
    {
      "cell_type": "markdown",
      "id": "4f3a9143-db55-4062-92c1-95bae165c967",
      "metadata": {
        "id": "4f3a9143-db55-4062-92c1-95bae165c967"
      },
      "source": [
        "Рассмотрите данные — изучите медианы, средние, дисперсии и т.д. \n",
        "\n",
        "Что можете сказать о данных? Сделайте вывод."
      ]
    },
    {
      "cell_type": "code",
      "execution_count": 3,
      "id": "103b2699-e4bd-46b4-a287-d4e70ad26878",
      "metadata": {
        "id": "103b2699-e4bd-46b4-a287-d4e70ad26878"
      },
      "outputs": [
        {
          "data": {
            "text/html": [
              "<div>\n",
              "<style scoped>\n",
              "    .dataframe tbody tr th:only-of-type {\n",
              "        vertical-align: middle;\n",
              "    }\n",
              "\n",
              "    .dataframe tbody tr th {\n",
              "        vertical-align: top;\n",
              "    }\n",
              "\n",
              "    .dataframe thead th {\n",
              "        text-align: right;\n",
              "    }\n",
              "</style>\n",
              "<table border=\"1\" class=\"dataframe\">\n",
              "  <thead>\n",
              "    <tr style=\"text-align: right;\">\n",
              "      <th></th>\n",
              "      <th>SeniorCitizen</th>\n",
              "      <th>tenure</th>\n",
              "      <th>MonthlyCharges</th>\n",
              "    </tr>\n",
              "  </thead>\n",
              "  <tbody>\n",
              "    <tr>\n",
              "      <th>count</th>\n",
              "      <td>7043.000000</td>\n",
              "      <td>7043.000000</td>\n",
              "      <td>7043.000000</td>\n",
              "    </tr>\n",
              "    <tr>\n",
              "      <th>mean</th>\n",
              "      <td>0.162147</td>\n",
              "      <td>32.371149</td>\n",
              "      <td>64.761692</td>\n",
              "    </tr>\n",
              "    <tr>\n",
              "      <th>std</th>\n",
              "      <td>0.368612</td>\n",
              "      <td>24.559481</td>\n",
              "      <td>30.090047</td>\n",
              "    </tr>\n",
              "    <tr>\n",
              "      <th>min</th>\n",
              "      <td>0.000000</td>\n",
              "      <td>0.000000</td>\n",
              "      <td>18.250000</td>\n",
              "    </tr>\n",
              "    <tr>\n",
              "      <th>25%</th>\n",
              "      <td>0.000000</td>\n",
              "      <td>9.000000</td>\n",
              "      <td>35.500000</td>\n",
              "    </tr>\n",
              "    <tr>\n",
              "      <th>50%</th>\n",
              "      <td>0.000000</td>\n",
              "      <td>29.000000</td>\n",
              "      <td>70.350000</td>\n",
              "    </tr>\n",
              "    <tr>\n",
              "      <th>75%</th>\n",
              "      <td>0.000000</td>\n",
              "      <td>55.000000</td>\n",
              "      <td>89.850000</td>\n",
              "    </tr>\n",
              "    <tr>\n",
              "      <th>max</th>\n",
              "      <td>1.000000</td>\n",
              "      <td>72.000000</td>\n",
              "      <td>118.750000</td>\n",
              "    </tr>\n",
              "  </tbody>\n",
              "</table>\n",
              "</div>"
            ],
            "text/plain": [
              "       SeniorCitizen       tenure  MonthlyCharges\n",
              "count    7043.000000  7043.000000     7043.000000\n",
              "mean        0.162147    32.371149       64.761692\n",
              "std         0.368612    24.559481       30.090047\n",
              "min         0.000000     0.000000       18.250000\n",
              "25%         0.000000     9.000000       35.500000\n",
              "50%         0.000000    29.000000       70.350000\n",
              "75%         0.000000    55.000000       89.850000\n",
              "max         1.000000    72.000000      118.750000"
            ]
          },
          "execution_count": 3,
          "metadata": {},
          "output_type": "execute_result"
        }
      ],
      "source": [
        "df.describe()"
      ]
    },
    {
      "cell_type": "code",
      "execution_count": 4,
      "id": "94f1a079",
      "metadata": {},
      "outputs": [
        {
          "data": {
            "text/plain": [
              "<Axes: >"
            ]
          },
          "execution_count": 4,
          "metadata": {},
          "output_type": "execute_result"
        },
        {
          "data": {
            "image/png": "[encoded data removed]",
            "text/plain": [
              "<Figure size 800x300 with 1 Axes>"
            ]
          },
          "metadata": {},
          "output_type": "display_data"
        }
      ],
      "source": [
        "df.tenure.hist(bins=50, figsize=(8, 3))"
      ]
    },
    {
      "cell_type": "code",
      "execution_count": 5,
      "id": "0ab02165",
      "metadata": {},
      "outputs": [
        {
          "data": {
            "text/plain": [
              "19.47"
            ]
          },
          "execution_count": 5,
          "metadata": {},
          "output_type": "execute_result"
        }
      ],
      "source": [
        "((df.tenure <= 5).sum() / df.tenure.count() * 100).round(2)"
      ]
    },
    {
      "cell_type": "code",
      "execution_count": 6,
      "id": "3416a28f",
      "metadata": {},
      "outputs": [
        {
          "data": {
            "text/plain": [
              "<Axes: >"
            ]
          },
          "execution_count": 6,
          "metadata": {},
          "output_type": "execute_result"
        },
        {
          "data": {
            "image/png": "[encoded data removed]",
            "text/plain": [
              "<Figure size 800x300 with 1 Axes>"
            ]
          },
          "metadata": {},
          "output_type": "display_data"
        }
      ],
      "source": [
        "df.MonthlyCharges.hist(bins=50, figsize=(8, 3))"
      ]
    },
    {
      "cell_type": "code",
      "execution_count": 7,
      "id": "b048b494",
      "metadata": {},
      "outputs": [
        {
          "data": {
            "text/plain": [
              "19.96"
            ]
          },
          "execution_count": 7,
          "metadata": {},
          "output_type": "execute_result"
        }
      ],
      "source": [
        "((df.MonthlyCharges <= 25).sum() / df.MonthlyCharges.count() * 100).round(2)"
      ]
    },
    {
      "attachments": {},
      "cell_type": "markdown",
      "id": "1daff97f-7552-4abb-918f-39fdda6d078e",
      "metadata": {
        "id": "1daff97f-7552-4abb-918f-39fdda6d078e"
      },
      "source": [
        "**Вывод:**\n",
        "1. `>75%` клиентов являются молодыми людьми.\n",
        "2. В среднем, клиенты держатся в компании `32` месяца (а медиана = `29` ), то есть `~3` года. При этом около `25%` являются клиентами `>5` лет. А также `19,5%` клиентов пользовалось услугами компании менее `5` месяце.\n",
        "3. Среднее ежемесячных платежей равно `65$`. А стандартным отклонением от этой суммы является `30$`. То есть, большинство клиентов платит в диапозоне `35$ - 95$`. При этом `20%` клиентов приносит компании менее `25$` ежемесячно (что почти равно самому минимальному платежу в `18$`)."
      ]
    },
    {
      "cell_type": "markdown",
      "id": "20dfbfdf",
      "metadata": {
        "id": "20dfbfdf",
        "papermill": {
          "duration": 0.109572,
          "end_time": "2022-09-17T00:13:04.713273",
          "exception": false,
          "start_time": "2022-09-17T00:13:04.603701",
          "status": "completed"
        },
        "tags": []
      },
      "source": [
        "### Уникальные значения для всех столбцов"
      ]
    },
    {
      "cell_type": "markdown",
      "id": "6dae3e7e-2d2d-48f4-a815-12203933284b",
      "metadata": {
        "id": "6dae3e7e-2d2d-48f4-a815-12203933284b",
        "tags": []
      },
      "source": [
        "Рассмотрите уникальные значения категориальных признаков. \n",
        "\n",
        "Сделайте вывод.\n",
        "\n",
        "**Подсказка:** можете воспользоваться методом `describe(include='object')`"
      ]
    },
    {
      "cell_type": "code",
      "execution_count": 8,
      "id": "8fdc1546-6a9b-4dc8-afdc-fca1fd637ded",
      "metadata": {
        "id": "8fdc1546-6a9b-4dc8-afdc-fca1fd637ded"
      },
      "outputs": [
        {
          "data": {
            "text/html": [
              "<div>\n",
              "<style scoped>\n",
              "    .dataframe tbody tr th:only-of-type {\n",
              "        vertical-align: middle;\n",
              "    }\n",
              "\n",
              "    .dataframe tbody tr th {\n",
              "        vertical-align: top;\n",
              "    }\n",
              "\n",
              "    .dataframe thead th {\n",
              "        text-align: right;\n",
              "    }\n",
              "</style>\n",
              "<table border=\"1\" class=\"dataframe\">\n",
              "  <thead>\n",
              "    <tr style=\"text-align: right;\">\n",
              "      <th></th>\n",
              "      <th>count</th>\n",
              "      <th>unique</th>\n",
              "      <th>top</th>\n",
              "      <th>freq</th>\n",
              "    </tr>\n",
              "  </thead>\n",
              "  <tbody>\n",
              "    <tr>\n",
              "      <th>customerID</th>\n",
              "      <td>7043</td>\n",
              "      <td>7043</td>\n",
              "      <td>7590-VHVEG</td>\n",
              "      <td>1</td>\n",
              "    </tr>\n",
              "    <tr>\n",
              "      <th>gender</th>\n",
              "      <td>7043</td>\n",
              "      <td>2</td>\n",
              "      <td>Male</td>\n",
              "      <td>3555</td>\n",
              "    </tr>\n",
              "    <tr>\n",
              "      <th>Partner</th>\n",
              "      <td>7043</td>\n",
              "      <td>2</td>\n",
              "      <td>No</td>\n",
              "      <td>3641</td>\n",
              "    </tr>\n",
              "    <tr>\n",
              "      <th>Dependents</th>\n",
              "      <td>7043</td>\n",
              "      <td>2</td>\n",
              "      <td>No</td>\n",
              "      <td>4933</td>\n",
              "    </tr>\n",
              "    <tr>\n",
              "      <th>PhoneService</th>\n",
              "      <td>7043</td>\n",
              "      <td>2</td>\n",
              "      <td>Yes</td>\n",
              "      <td>6361</td>\n",
              "    </tr>\n",
              "    <tr>\n",
              "      <th>MultipleLines</th>\n",
              "      <td>7043</td>\n",
              "      <td>3</td>\n",
              "      <td>No</td>\n",
              "      <td>3390</td>\n",
              "    </tr>\n",
              "    <tr>\n",
              "      <th>InternetService</th>\n",
              "      <td>7043</td>\n",
              "      <td>3</td>\n",
              "      <td>Fiber optic</td>\n",
              "      <td>3096</td>\n",
              "    </tr>\n",
              "    <tr>\n",
              "      <th>OnlineSecurity</th>\n",
              "      <td>7043</td>\n",
              "      <td>3</td>\n",
              "      <td>No</td>\n",
              "      <td>3498</td>\n",
              "    </tr>\n",
              "    <tr>\n",
              "      <th>OnlineBackup</th>\n",
              "      <td>7043</td>\n",
              "      <td>3</td>\n",
              "      <td>No</td>\n",
              "      <td>3088</td>\n",
              "    </tr>\n",
              "    <tr>\n",
              "      <th>DeviceProtection</th>\n",
              "      <td>7043</td>\n",
              "      <td>3</td>\n",
              "      <td>No</td>\n",
              "      <td>3095</td>\n",
              "    </tr>\n",
              "    <tr>\n",
              "      <th>TechSupport</th>\n",
              "      <td>7043</td>\n",
              "      <td>3</td>\n",
              "      <td>No</td>\n",
              "      <td>3473</td>\n",
              "    </tr>\n",
              "    <tr>\n",
              "      <th>StreamingTV</th>\n",
              "      <td>7043</td>\n",
              "      <td>3</td>\n",
              "      <td>No</td>\n",
              "      <td>2810</td>\n",
              "    </tr>\n",
              "    <tr>\n",
              "      <th>StreamingMovies</th>\n",
              "      <td>7043</td>\n",
              "      <td>3</td>\n",
              "      <td>No</td>\n",
              "      <td>2785</td>\n",
              "    </tr>\n",
              "    <tr>\n",
              "      <th>Contract</th>\n",
              "      <td>7043</td>\n",
              "      <td>3</td>\n",
              "      <td>Month-to-month</td>\n",
              "      <td>3875</td>\n",
              "    </tr>\n",
              "    <tr>\n",
              "      <th>PaperlessBilling</th>\n",
              "      <td>7043</td>\n",
              "      <td>2</td>\n",
              "      <td>Yes</td>\n",
              "      <td>4171</td>\n",
              "    </tr>\n",
              "    <tr>\n",
              "      <th>PaymentMethod</th>\n",
              "      <td>7043</td>\n",
              "      <td>4</td>\n",
              "      <td>Electronic check</td>\n",
              "      <td>2365</td>\n",
              "    </tr>\n",
              "    <tr>\n",
              "      <th>TotalCharges</th>\n",
              "      <td>7043</td>\n",
              "      <td>6531</td>\n",
              "      <td></td>\n",
              "      <td>11</td>\n",
              "    </tr>\n",
              "    <tr>\n",
              "      <th>Churn</th>\n",
              "      <td>7043</td>\n",
              "      <td>2</td>\n",
              "      <td>No</td>\n",
              "      <td>5174</td>\n",
              "    </tr>\n",
              "  </tbody>\n",
              "</table>\n",
              "</div>"
            ],
            "text/plain": [
              "                 count unique               top  freq\n",
              "customerID        7043   7043        7590-VHVEG     1\n",
              "gender            7043      2              Male  3555\n",
              "Partner           7043      2                No  3641\n",
              "Dependents        7043      2                No  4933\n",
              "PhoneService      7043      2               Yes  6361\n",
              "MultipleLines     7043      3                No  3390\n",
              "InternetService   7043      3       Fiber optic  3096\n",
              "OnlineSecurity    7043      3                No  3498\n",
              "OnlineBackup      7043      3                No  3088\n",
              "DeviceProtection  7043      3                No  3095\n",
              "TechSupport       7043      3                No  3473\n",
              "StreamingTV       7043      3                No  2810\n",
              "StreamingMovies   7043      3                No  2785\n",
              "Contract          7043      3    Month-to-month  3875\n",
              "PaperlessBilling  7043      2               Yes  4171\n",
              "PaymentMethod     7043      4  Electronic check  2365\n",
              "TotalCharges      7043   6531                      11\n",
              "Churn             7043      2                No  5174"
            ]
          },
          "execution_count": 8,
          "metadata": {},
          "output_type": "execute_result"
        }
      ],
      "source": [
        "df.describe(include='object').T"
      ]
    },
    {
      "cell_type": "code",
      "execution_count": 9,
      "id": "8796114d",
      "metadata": {},
      "outputs": [
        {
          "data": {
            "text/plain": [
              "<Axes: >"
            ]
          },
          "execution_count": 9,
          "metadata": {},
          "output_type": "execute_result"
        },
        {
          "data": {
            "image/png": "[encoded data removed]",
            "text/plain": [
              "<Figure size 800x300 with 1 Axes>"
            ]
          },
          "metadata": {},
          "output_type": "display_data"
        }
      ],
      "source": [
        "df.PaymentMethod.hist(bins=8, figsize=(8, 3))"
      ]
    },
    {
      "cell_type": "code",
      "execution_count": 10,
      "id": "17bb7059",
      "metadata": {},
      "outputs": [
        {
          "data": {
            "text/plain": [
              "<Axes: >"
            ]
          },
          "execution_count": 10,
          "metadata": {},
          "output_type": "execute_result"
        },
        {
          "data": {
            "image/png": "[encoded data removed]",
            "text/plain": [
              "<Figure size 800x300 with 1 Axes>"
            ]
          },
          "metadata": {},
          "output_type": "display_data"
        }
      ],
      "source": [
        "df.MultipleLines.hist(bins=6, figsize=(8, 3))"
      ]
    },
    {
      "cell_type": "code",
      "execution_count": 11,
      "id": "8d8912ba",
      "metadata": {},
      "outputs": [
        {
          "data": {
            "text/plain": [
              "9.68"
            ]
          },
          "execution_count": 11,
          "metadata": {},
          "output_type": "execute_result"
        }
      ],
      "source": [
        "((df.MultipleLines == \"No phone service\").sum() / df.MultipleLines.count() * 100).round(2)"
      ]
    },
    {
      "cell_type": "code",
      "execution_count": 12,
      "id": "affe678b",
      "metadata": {},
      "outputs": [
        {
          "data": {
            "text/plain": [
              "<Axes: >"
            ]
          },
          "execution_count": 12,
          "metadata": {},
          "output_type": "execute_result"
        },
        {
          "data": {
            "image/png": "[encoded data removed]",
            "text/plain": [
              "<Figure size 800x300 with 1 Axes>"
            ]
          },
          "metadata": {},
          "output_type": "display_data"
        }
      ],
      "source": [
        "df.InternetService.hist(bins=6, figsize=(8, 3))"
      ]
    },
    {
      "cell_type": "code",
      "execution_count": 13,
      "id": "50b965c3",
      "metadata": {},
      "outputs": [
        {
          "data": {
            "text/plain": [
              "<Axes: >"
            ]
          },
          "execution_count": 13,
          "metadata": {},
          "output_type": "execute_result"
        },
        {
          "data": {
            "image/png": "[encoded data removed]",
            "text/plain": [
              "<Figure size 800x300 with 1 Axes>"
            ]
          },
          "metadata": {},
          "output_type": "display_data"
        }
      ],
      "source": [
        "df.Contract.hist(bins=6, figsize=(8, 3))"
      ]
    },
    {
      "attachments": {},
      "cell_type": "markdown",
      "id": "31dd4378-da15-45df-94a6-2e6d9466b368",
      "metadata": {
        "id": "31dd4378-da15-45df-94a6-2e6d9466b368"
      },
      "source": [
        "**Вывод:**\n",
        "- Распределение по полу и наличию партнёра является симметричным, то есть, никакая из этих групп не преобладает над другой.\n",
        "- Наличие несовершеннолетних детей наблюдается у трети клиентов.\n",
        "- Более половины клиентов пользуется только одной линией. У `10%` связи нет вовсе.\n",
        "- `10%` клиентов интернет не использует. У остальных самым популярным провайдером является `Fiber optic`.\n",
        "- Только четверть клиентов подключила себе онлайн-безопасность.\n",
        "- У трети клиентов есть онлайн-резервное копирование.\n",
        "- Половина клиентов имеет функцию защиты устройства.\n",
        "- Только треть клиентов имеет доступ к технической поддержке.\n",
        "- Половина клиентов пользуется потоковым телевидением и (или) стриминговыми сервисами.\n",
        "- Большинство клиентов использует ежемесячную подписку, а не более длительную.\n",
        "- Большая часть клиентов имеет безналичные счета.\n",
        "- В качестве способа оплаты преобладает электронный чек.\n",
        "- Менее трети клиентов откозалось от услуг компании.\n"
      ]
    },
    {
      "cell_type": "markdown",
      "id": "71169f8f-3bf5-498c-8844-ec8e47c232a4",
      "metadata": {
        "id": "71169f8f-3bf5-498c-8844-ec8e47c232a4",
        "papermill": {
          "duration": 0.107391,
          "end_time": "2022-09-17T00:13:03.296525",
          "exception": false,
          "start_time": "2022-09-17T00:13:03.189134",
          "status": "completed"
        },
        "tags": []
      },
      "source": [
        "## 3. Предобработка данных"
      ]
    },
    {
      "cell_type": "markdown",
      "id": "0a01fab1-c07b-46b0-a2d2-e8939670ed1d",
      "metadata": {
        "id": "0a01fab1-c07b-46b0-a2d2-e8939670ed1d",
        "papermill": {
          "duration": 0.110418,
          "end_time": "2022-09-17T00:13:05.443495",
          "exception": false,
          "start_time": "2022-09-17T00:13:05.333077",
          "status": "completed"
        },
        "tags": []
      },
      "source": [
        "### Дубликаты"
      ]
    },
    {
      "cell_type": "markdown",
      "id": "e30c5d7d-10fe-4889-9156-e89b3ac80e9f",
      "metadata": {
        "id": "e30c5d7d-10fe-4889-9156-e89b3ac80e9f"
      },
      "source": [
        "Предобработайте датасет — проверьте на наличие дубликатов и удалите, если они есть."
      ]
    },
    {
      "cell_type": "code",
      "execution_count": 14,
      "id": "719cd83b-60bd-4da9-81c4-0c22893b3e47",
      "metadata": {
        "id": "719cd83b-60bd-4da9-81c4-0c22893b3e47"
      },
      "outputs": [
        {
          "data": {
            "text/plain": [
              "0"
            ]
          },
          "execution_count": 14,
          "metadata": {},
          "output_type": "execute_result"
        }
      ],
      "source": [
        "df.duplicated().sum()"
      ]
    },
    {
      "cell_type": "markdown",
      "id": "8e8f7fbc",
      "metadata": {
        "id": "8e8f7fbc",
        "papermill": {
          "duration": 0.110418,
          "end_time": "2022-09-17T00:13:05.443495",
          "exception": false,
          "start_time": "2022-09-17T00:13:05.333077",
          "status": "completed"
        },
        "tags": []
      },
      "source": [
        "### Отсутствующие значения"
      ]
    },
    {
      "cell_type": "markdown",
      "id": "cefe6e59-bbf6-409f-bc89-299984ccf9ec",
      "metadata": {
        "id": "cefe6e59-bbf6-409f-bc89-299984ccf9ec"
      },
      "source": [
        "Пояснение к данному датасету:\n",
        "\n",
        "Не всегда в данных есть явные пропуски, которые легко индексируются средствами Pandas. К сожалению бывают проблемы с выгрузками данных, некачественными источниками, или когда данные записываются вручную — часто присутствует человеческий фактор. По мере работы с новыми данными лучше проверять на наличие таких данных, иначе из-за этого исследование может исказиться.\n",
        "\n",
        "Рассмотрим такой случай:"
      ]
    },
    {
      "cell_type": "code",
      "execution_count": 15,
      "id": "3493172e",
      "metadata": {
        "id": "3493172e",
        "papermill": {
          "duration": 0.127904,
          "end_time": "2022-09-17T00:13:05.681445",
          "exception": false,
          "start_time": "2022-09-17T00:13:05.553541",
          "status": "completed"
        },
        "tags": []
      },
      "outputs": [
        {
          "data": {
            "text/plain": [
              "customerID          0\n",
              "gender              0\n",
              "SeniorCitizen       0\n",
              "Partner             0\n",
              "Dependents          0\n",
              "tenure              0\n",
              "PhoneService        0\n",
              "MultipleLines       0\n",
              "InternetService     0\n",
              "OnlineSecurity      0\n",
              "OnlineBackup        0\n",
              "DeviceProtection    0\n",
              "TechSupport         0\n",
              "StreamingTV         0\n",
              "StreamingMovies     0\n",
              "Contract            0\n",
              "PaperlessBilling    0\n",
              "PaymentMethod       0\n",
              "MonthlyCharges      0\n",
              "TotalCharges        0\n",
              "Churn               0\n",
              "dtype: int64"
            ]
          },
          "execution_count": 15,
          "metadata": {},
          "output_type": "execute_result"
        }
      ],
      "source": [
        "df.isna().sum()"
      ]
    },
    {
      "cell_type": "markdown",
      "id": "9262f68f-8d27-4794-ab21-327484d502ac",
      "metadata": {
        "id": "9262f68f-8d27-4794-ab21-327484d502ac"
      },
      "source": [
        "Да, не видно пропусков. Но почему тогда столбец `TotalCharges` не отобразился изначально как числовой столбец?\n",
        "\n",
        "Проверим все столбцы:"
      ]
    },
    {
      "cell_type": "code",
      "execution_count": 16,
      "id": "c086249f",
      "metadata": {
        "id": "c086249f",
        "papermill": {
          "duration": 0.212036,
          "end_time": "2022-09-17T00:13:06.005380",
          "exception": false,
          "start_time": "2022-09-17T00:13:05.793344",
          "status": "completed"
        },
        "tags": []
      },
      "outputs": [
        {
          "name": "stdout",
          "output_type": "stream",
          "text": [
            "Неявные пропуски столбца TotalCharges: 11\n"
          ]
        }
      ],
      "source": [
        "for col in df:\n",
        "    if df[col].dtype == 'object':\n",
        "        nans = df[col].apply(lambda x: len(x.strip())==0).sum()\n",
        "        if nans > 0:\n",
        "            print(f'Неявные пропуски столбца {col}:', df[col].apply(lambda x: len(x.strip())==0).sum())"
      ]
    },
    {
      "cell_type": "markdown",
      "id": "d9751428-4425-4a69-a8b9-0d8be7bdda21",
      "metadata": {
        "id": "d9751428-4425-4a69-a8b9-0d8be7bdda21"
      },
      "source": [
        "Что мы можем сделать в таком случае?\n",
        "\n",
        "1) По этому же фильтру удалить строки с пропусками, чтобы не искажать данные\n",
        "2) Перевести тип столбца на числовой с параметром `errors = 'coerce'` и удалить\n",
        "\n",
        "Но можно не удалять, чтобы не потерять данные, а:\n",
        "\n",
        "1) Заменить значения на другое\n",
        "2) Поменять на другое — но только в том случае, если есть какая-то зависимость в данных.\n",
        "\n",
        "Давайте изменим тип и найдем зависимость:"
      ]
    },
    {
      "cell_type": "code",
      "execution_count": 17,
      "id": "32c7fbb7-ea06-491f-9629-525175141ed2",
      "metadata": {
        "id": "32c7fbb7-ea06-491f-9629-525175141ed2",
        "tags": []
      },
      "outputs": [
        {
          "data": {
            "text/html": [
              "<div>\n",
              "<style scoped>\n",
              "    .dataframe tbody tr th:only-of-type {\n",
              "        vertical-align: middle;\n",
              "    }\n",
              "\n",
              "    .dataframe tbody tr th {\n",
              "        vertical-align: top;\n",
              "    }\n",
              "\n",
              "    .dataframe thead th {\n",
              "        text-align: right;\n",
              "    }\n",
              "</style>\n",
              "<table border=\"1\" class=\"dataframe\">\n",
              "  <thead>\n",
              "    <tr style=\"text-align: right;\">\n",
              "      <th></th>\n",
              "      <th>customerID</th>\n",
              "      <th>gender</th>\n",
              "      <th>SeniorCitizen</th>\n",
              "      <th>Partner</th>\n",
              "      <th>Dependents</th>\n",
              "      <th>tenure</th>\n",
              "      <th>PhoneService</th>\n",
              "      <th>MultipleLines</th>\n",
              "      <th>InternetService</th>\n",
              "      <th>OnlineSecurity</th>\n",
              "      <th>OnlineBackup</th>\n",
              "      <th>DeviceProtection</th>\n",
              "      <th>TechSupport</th>\n",
              "      <th>StreamingTV</th>\n",
              "      <th>StreamingMovies</th>\n",
              "      <th>Contract</th>\n",
              "      <th>PaperlessBilling</th>\n",
              "      <th>PaymentMethod</th>\n",
              "      <th>MonthlyCharges</th>\n",
              "      <th>TotalCharges</th>\n",
              "      <th>Churn</th>\n",
              "    </tr>\n",
              "  </thead>\n",
              "  <tbody>\n",
              "    <tr>\n",
              "      <th>488</th>\n",
              "      <td>4472-LVYGI</td>\n",
              "      <td>Female</td>\n",
              "      <td>0</td>\n",
              "      <td>Yes</td>\n",
              "      <td>Yes</td>\n",
              "      <td>0</td>\n",
              "      <td>No</td>\n",
              "      <td>No phone service</td>\n",
              "      <td>DSL</td>\n",
              "      <td>Yes</td>\n",
              "      <td>No</td>\n",
              "      <td>Yes</td>\n",
              "      <td>Yes</td>\n",
              "      <td>Yes</td>\n",
              "      <td>No</td>\n",
              "      <td>Two year</td>\n",
              "      <td>Yes</td>\n",
              "      <td>Bank transfer (automatic)</td>\n",
              "      <td>52.55</td>\n",
              "      <td>NaN</td>\n",
              "      <td>No</td>\n",
              "    </tr>\n",
              "    <tr>\n",
              "      <th>753</th>\n",
              "      <td>3115-CZMZD</td>\n",
              "      <td>Male</td>\n",
              "      <td>0</td>\n",
              "      <td>No</td>\n",
              "      <td>Yes</td>\n",
              "      <td>0</td>\n",
              "      <td>Yes</td>\n",
              "      <td>No</td>\n",
              "      <td>No</td>\n",
              "      <td>No internet service</td>\n",
              "      <td>No internet service</td>\n",
              "      <td>No internet service</td>\n",
              "      <td>No internet service</td>\n",
              "      <td>No internet service</td>\n",
              "      <td>No internet service</td>\n",
              "      <td>Two year</td>\n",
              "      <td>No</td>\n",
              "      <td>Mailed check</td>\n",
              "      <td>20.25</td>\n",
              "      <td>NaN</td>\n",
              "      <td>No</td>\n",
              "    </tr>\n",
              "    <tr>\n",
              "      <th>936</th>\n",
              "      <td>5709-LVOEQ</td>\n",
              "      <td>Female</td>\n",
              "      <td>0</td>\n",
              "      <td>Yes</td>\n",
              "      <td>Yes</td>\n",
              "      <td>0</td>\n",
              "      <td>Yes</td>\n",
              "      <td>No</td>\n",
              "      <td>DSL</td>\n",
              "      <td>Yes</td>\n",
              "      <td>Yes</td>\n",
              "      <td>Yes</td>\n",
              "      <td>No</td>\n",
              "      <td>Yes</td>\n",
              "      <td>Yes</td>\n",
              "      <td>Two year</td>\n",
              "      <td>No</td>\n",
              "      <td>Mailed check</td>\n",
              "      <td>80.85</td>\n",
              "      <td>NaN</td>\n",
              "      <td>No</td>\n",
              "    </tr>\n",
              "    <tr>\n",
              "      <th>1082</th>\n",
              "      <td>4367-NUYAO</td>\n",
              "      <td>Male</td>\n",
              "      <td>0</td>\n",
              "      <td>Yes</td>\n",
              "      <td>Yes</td>\n",
              "      <td>0</td>\n",
              "      <td>Yes</td>\n",
              "      <td>Yes</td>\n",
              "      <td>No</td>\n",
              "      <td>No internet service</td>\n",
              "      <td>No internet service</td>\n",
              "      <td>No internet service</td>\n",
              "      <td>No internet service</td>\n",
              "      <td>No internet service</td>\n",
              "      <td>No internet service</td>\n",
              "      <td>Two year</td>\n",
              "      <td>No</td>\n",
              "      <td>Mailed check</td>\n",
              "      <td>25.75</td>\n",
              "      <td>NaN</td>\n",
              "      <td>No</td>\n",
              "    </tr>\n",
              "    <tr>\n",
              "      <th>1340</th>\n",
              "      <td>1371-DWPAZ</td>\n",
              "      <td>Female</td>\n",
              "      <td>0</td>\n",
              "      <td>Yes</td>\n",
              "      <td>Yes</td>\n",
              "      <td>0</td>\n",
              "      <td>No</td>\n",
              "      <td>No phone service</td>\n",
              "      <td>DSL</td>\n",
              "      <td>Yes</td>\n",
              "      <td>Yes</td>\n",
              "      <td>Yes</td>\n",
              "      <td>Yes</td>\n",
              "      <td>Yes</td>\n",
              "      <td>No</td>\n",
              "      <td>Two year</td>\n",
              "      <td>No</td>\n",
              "      <td>Credit card (automatic)</td>\n",
              "      <td>56.05</td>\n",
              "      <td>NaN</td>\n",
              "      <td>No</td>\n",
              "    </tr>\n",
              "    <tr>\n",
              "      <th>3331</th>\n",
              "      <td>7644-OMVMY</td>\n",
              "      <td>Male</td>\n",
              "      <td>0</td>\n",
              "      <td>Yes</td>\n",
              "      <td>Yes</td>\n",
              "      <td>0</td>\n",
              "      <td>Yes</td>\n",
              "      <td>No</td>\n",
              "      <td>No</td>\n",
              "      <td>No internet service</td>\n",
              "      <td>No internet service</td>\n",
              "      <td>No internet service</td>\n",
              "      <td>No internet service</td>\n",
              "      <td>No internet service</td>\n",
              "      <td>No internet service</td>\n",
              "      <td>Two year</td>\n",
              "      <td>No</td>\n",
              "      <td>Mailed check</td>\n",
              "      <td>19.85</td>\n",
              "      <td>NaN</td>\n",
              "      <td>No</td>\n",
              "    </tr>\n",
              "    <tr>\n",
              "      <th>3826</th>\n",
              "      <td>3213-VVOLG</td>\n",
              "      <td>Male</td>\n",
              "      <td>0</td>\n",
              "      <td>Yes</td>\n",
              "      <td>Yes</td>\n",
              "      <td>0</td>\n",
              "      <td>Yes</td>\n",
              "      <td>Yes</td>\n",
              "      <td>No</td>\n",
              "      <td>No internet service</td>\n",
              "      <td>No internet service</td>\n",
              "      <td>No internet service</td>\n",
              "      <td>No internet service</td>\n",
              "      <td>No internet service</td>\n",
              "      <td>No internet service</td>\n",
              "      <td>Two year</td>\n",
              "      <td>No</td>\n",
              "      <td>Mailed check</td>\n",
              "      <td>25.35</td>\n",
              "      <td>NaN</td>\n",
              "      <td>No</td>\n",
              "    </tr>\n",
              "    <tr>\n",
              "      <th>4380</th>\n",
              "      <td>2520-SGTTA</td>\n",
              "      <td>Female</td>\n",
              "      <td>0</td>\n",
              "      <td>Yes</td>\n",
              "      <td>Yes</td>\n",
              "      <td>0</td>\n",
              "      <td>Yes</td>\n",
              "      <td>No</td>\n",
              "      <td>No</td>\n",
              "      <td>No internet service</td>\n",
              "      <td>No internet service</td>\n",
              "      <td>No internet service</td>\n",
              "      <td>No internet service</td>\n",
              "      <td>No internet service</td>\n",
              "      <td>No internet service</td>\n",
              "      <td>Two year</td>\n",
              "      <td>No</td>\n",
              "      <td>Mailed check</td>\n",
              "      <td>20.00</td>\n",
              "      <td>NaN</td>\n",
              "      <td>No</td>\n",
              "    </tr>\n",
              "    <tr>\n",
              "      <th>5218</th>\n",
              "      <td>2923-ARZLG</td>\n",
              "      <td>Male</td>\n",
              "      <td>0</td>\n",
              "      <td>Yes</td>\n",
              "      <td>Yes</td>\n",
              "      <td>0</td>\n",
              "      <td>Yes</td>\n",
              "      <td>No</td>\n",
              "      <td>No</td>\n",
              "      <td>No internet service</td>\n",
              "      <td>No internet service</td>\n",
              "      <td>No internet service</td>\n",
              "      <td>No internet service</td>\n",
              "      <td>No internet service</td>\n",
              "      <td>No internet service</td>\n",
              "      <td>One year</td>\n",
              "      <td>Yes</td>\n",
              "      <td>Mailed check</td>\n",
              "      <td>19.70</td>\n",
              "      <td>NaN</td>\n",
              "      <td>No</td>\n",
              "    </tr>\n",
              "    <tr>\n",
              "      <th>6670</th>\n",
              "      <td>4075-WKNIU</td>\n",
              "      <td>Female</td>\n",
              "      <td>0</td>\n",
              "      <td>Yes</td>\n",
              "      <td>Yes</td>\n",
              "      <td>0</td>\n",
              "      <td>Yes</td>\n",
              "      <td>Yes</td>\n",
              "      <td>DSL</td>\n",
              "      <td>No</td>\n",
              "      <td>Yes</td>\n",
              "      <td>Yes</td>\n",
              "      <td>Yes</td>\n",
              "      <td>Yes</td>\n",
              "      <td>No</td>\n",
              "      <td>Two year</td>\n",
              "      <td>No</td>\n",
              "      <td>Mailed check</td>\n",
              "      <td>73.35</td>\n",
              "      <td>NaN</td>\n",
              "      <td>No</td>\n",
              "    </tr>\n",
              "    <tr>\n",
              "      <th>6754</th>\n",
              "      <td>2775-SEFEE</td>\n",
              "      <td>Male</td>\n",
              "      <td>0</td>\n",
              "      <td>No</td>\n",
              "      <td>Yes</td>\n",
              "      <td>0</td>\n",
              "      <td>Yes</td>\n",
              "      <td>Yes</td>\n",
              "      <td>DSL</td>\n",
              "      <td>Yes</td>\n",
              "      <td>Yes</td>\n",
              "      <td>No</td>\n",
              "      <td>Yes</td>\n",
              "      <td>No</td>\n",
              "      <td>No</td>\n",
              "      <td>Two year</td>\n",
              "      <td>Yes</td>\n",
              "      <td>Bank transfer (automatic)</td>\n",
              "      <td>61.90</td>\n",
              "      <td>NaN</td>\n",
              "      <td>No</td>\n",
              "    </tr>\n",
              "  </tbody>\n",
              "</table>\n",
              "</div>"
            ],
            "text/plain": [
              "      customerID  gender  SeniorCitizen Partner Dependents  tenure  \\\n",
              "488   4472-LVYGI  Female              0     Yes        Yes       0   \n",
              "753   3115-CZMZD    Male              0      No        Yes       0   \n",
              "936   5709-LVOEQ  Female              0     Yes        Yes       0   \n",
              "1082  4367-NUYAO    Male              0     Yes        Yes       0   \n",
              "1340  1371-DWPAZ  Female              0     Yes        Yes       0   \n",
              "3331  7644-OMVMY    Male              0     Yes        Yes       0   \n",
              "3826  3213-VVOLG    Male              0     Yes        Yes       0   \n",
              "4380  2520-SGTTA  Female              0     Yes        Yes       0   \n",
              "5218  2923-ARZLG    Male              0     Yes        Yes       0   \n",
              "6670  4075-WKNIU  Female              0     Yes        Yes       0   \n",
              "6754  2775-SEFEE    Male              0      No        Yes       0   \n",
              "\n",
              "     PhoneService     MultipleLines InternetService       OnlineSecurity  \\\n",
              "488            No  No phone service             DSL                  Yes   \n",
              "753           Yes                No              No  No internet service   \n",
              "936           Yes                No             DSL                  Yes   \n",
              "1082          Yes               Yes              No  No internet service   \n",
              "1340           No  No phone service             DSL                  Yes   \n",
              "3331          Yes                No              No  No internet service   \n",
              "3826          Yes               Yes              No  No internet service   \n",
              "4380          Yes                No              No  No internet service   \n",
              "5218          Yes                No              No  No internet service   \n",
              "6670          Yes               Yes             DSL                   No   \n",
              "6754          Yes               Yes             DSL                  Yes   \n",
              "\n",
              "             OnlineBackup     DeviceProtection          TechSupport  \\\n",
              "488                    No                  Yes                  Yes   \n",
              "753   No internet service  No internet service  No internet service   \n",
              "936                   Yes                  Yes                   No   \n",
              "1082  No internet service  No internet service  No internet service   \n",
              "1340                  Yes                  Yes                  Yes   \n",
              "3331  No internet service  No internet service  No internet service   \n",
              "3826  No internet service  No internet service  No internet service   \n",
              "4380  No internet service  No internet service  No internet service   \n",
              "5218  No internet service  No internet service  No internet service   \n",
              "6670                  Yes                  Yes                  Yes   \n",
              "6754                  Yes                   No                  Yes   \n",
              "\n",
              "              StreamingTV      StreamingMovies  Contract PaperlessBilling  \\\n",
              "488                   Yes                   No  Two year              Yes   \n",
              "753   No internet service  No internet service  Two year               No   \n",
              "936                   Yes                  Yes  Two year               No   \n",
              "1082  No internet service  No internet service  Two year               No   \n",
              "1340                  Yes                   No  Two year               No   \n",
              "3331  No internet service  No internet service  Two year               No   \n",
              "3826  No internet service  No internet service  Two year               No   \n",
              "4380  No internet service  No internet service  Two year               No   \n",
              "5218  No internet service  No internet service  One year              Yes   \n",
              "6670                  Yes                   No  Two year               No   \n",
              "6754                   No                   No  Two year              Yes   \n",
              "\n",
              "                  PaymentMethod  MonthlyCharges  TotalCharges Churn  \n",
              "488   Bank transfer (automatic)           52.55           NaN    No  \n",
              "753                Mailed check           20.25           NaN    No  \n",
              "936                Mailed check           80.85           NaN    No  \n",
              "1082               Mailed check           25.75           NaN    No  \n",
              "1340    Credit card (automatic)           56.05           NaN    No  \n",
              "3331               Mailed check           19.85           NaN    No  \n",
              "3826               Mailed check           25.35           NaN    No  \n",
              "4380               Mailed check           20.00           NaN    No  \n",
              "5218               Mailed check           19.70           NaN    No  \n",
              "6670               Mailed check           73.35           NaN    No  \n",
              "6754  Bank transfer (automatic)           61.90           NaN    No  "
            ]
          },
          "execution_count": 17,
          "metadata": {},
          "output_type": "execute_result"
        }
      ],
      "source": [
        "df[\"TotalCharges\"] = pd.to_numeric(df[\"TotalCharges\"], errors = 'coerce')\n",
        "\n",
        "df[df[\"TotalCharges\"].isna()]"
      ]
    },
    {
      "cell_type": "markdown",
      "id": "2c030a1f-7848-4412-93b1-a8eecc8cbf5f",
      "metadata": {
        "id": "2c030a1f-7848-4412-93b1-a8eecc8cbf5f"
      },
      "source": [
        "**Но как выглядят наши данные обычно?**"
      ]
    },
    {
      "cell_type": "code",
      "execution_count": 18,
      "id": "c5a0c8e0-8906-4a9a-b081-b718f4e11053",
      "metadata": {
        "id": "c5a0c8e0-8906-4a9a-b081-b718f4e11053",
        "tags": []
      },
      "outputs": [
        {
          "data": {
            "text/html": [
              "<div>\n",
              "<style scoped>\n",
              "    .dataframe tbody tr th:only-of-type {\n",
              "        vertical-align: middle;\n",
              "    }\n",
              "\n",
              "    .dataframe tbody tr th {\n",
              "        vertical-align: top;\n",
              "    }\n",
              "\n",
              "    .dataframe thead th {\n",
              "        text-align: right;\n",
              "    }\n",
              "</style>\n",
              "<table border=\"1\" class=\"dataframe\">\n",
              "  <thead>\n",
              "    <tr style=\"text-align: right;\">\n",
              "      <th></th>\n",
              "      <th>tenure</th>\n",
              "      <th>MonthlyCharges</th>\n",
              "      <th>TotalCharges</th>\n",
              "    </tr>\n",
              "  </thead>\n",
              "  <tbody>\n",
              "    <tr>\n",
              "      <th>437</th>\n",
              "      <td>72</td>\n",
              "      <td>114.05</td>\n",
              "      <td>8468.20</td>\n",
              "    </tr>\n",
              "    <tr>\n",
              "      <th>348</th>\n",
              "      <td>23</td>\n",
              "      <td>44.95</td>\n",
              "      <td>996.85</td>\n",
              "    </tr>\n",
              "    <tr>\n",
              "      <th>3124</th>\n",
              "      <td>68</td>\n",
              "      <td>82.85</td>\n",
              "      <td>5776.45</td>\n",
              "    </tr>\n",
              "    <tr>\n",
              "      <th>1706</th>\n",
              "      <td>69</td>\n",
              "      <td>97.65</td>\n",
              "      <td>6743.55</td>\n",
              "    </tr>\n",
              "    <tr>\n",
              "      <th>3724</th>\n",
              "      <td>62</td>\n",
              "      <td>24.80</td>\n",
              "      <td>1476.25</td>\n",
              "    </tr>\n",
              "  </tbody>\n",
              "</table>\n",
              "</div>"
            ],
            "text/plain": [
              "      tenure  MonthlyCharges  TotalCharges\n",
              "437       72          114.05       8468.20\n",
              "348       23           44.95        996.85\n",
              "3124      68           82.85       5776.45\n",
              "1706      69           97.65       6743.55\n",
              "3724      62           24.80       1476.25"
            ]
          },
          "execution_count": 18,
          "metadata": {},
          "output_type": "execute_result"
        }
      ],
      "source": [
        "df[['tenure', 'MonthlyCharges', 'TotalCharges']].sample(5)"
      ]
    },
    {
      "cell_type": "markdown",
      "id": "089c43d2-f7e8-4494-8f29-0419d0e4d193",
      "metadata": {
        "id": "089c43d2-f7e8-4494-8f29-0419d0e4d193"
      },
      "source": [
        "**Ничего не заметили?**\n",
        "\n",
        "Может общая сумма, списанная с клиента, равна сумме, взимаемой с клиента ежемесячно умноженной на количество времени?\n",
        "\n",
        "Давайте посмотрим."
      ]
    },
    {
      "cell_type": "code",
      "execution_count": 19,
      "id": "b5694487-db1c-4cf6-b543-af9e6a120970",
      "metadata": {
        "id": "b5694487-db1c-4cf6-b543-af9e6a120970"
      },
      "outputs": [
        {
          "data": {
            "text/html": [
              "<div>\n",
              "<style scoped>\n",
              "    .dataframe tbody tr th:only-of-type {\n",
              "        vertical-align: middle;\n",
              "    }\n",
              "\n",
              "    .dataframe tbody tr th {\n",
              "        vertical-align: top;\n",
              "    }\n",
              "\n",
              "    .dataframe thead th {\n",
              "        text-align: right;\n",
              "    }\n",
              "</style>\n",
              "<table border=\"1\" class=\"dataframe\">\n",
              "  <thead>\n",
              "    <tr style=\"text-align: right;\">\n",
              "      <th></th>\n",
              "      <th>tenure</th>\n",
              "      <th>MonthlyCharges</th>\n",
              "      <th>TotalCharges</th>\n",
              "    </tr>\n",
              "  </thead>\n",
              "  <tbody>\n",
              "    <tr>\n",
              "      <th>0</th>\n",
              "      <td>1</td>\n",
              "      <td>29.85</td>\n",
              "      <td>29.85</td>\n",
              "    </tr>\n",
              "    <tr>\n",
              "      <th>20</th>\n",
              "      <td>1</td>\n",
              "      <td>39.65</td>\n",
              "      <td>39.65</td>\n",
              "    </tr>\n",
              "    <tr>\n",
              "      <th>22</th>\n",
              "      <td>1</td>\n",
              "      <td>20.15</td>\n",
              "      <td>20.15</td>\n",
              "    </tr>\n",
              "    <tr>\n",
              "      <th>27</th>\n",
              "      <td>1</td>\n",
              "      <td>30.20</td>\n",
              "      <td>30.20</td>\n",
              "    </tr>\n",
              "    <tr>\n",
              "      <th>33</th>\n",
              "      <td>1</td>\n",
              "      <td>20.20</td>\n",
              "      <td>20.20</td>\n",
              "    </tr>\n",
              "  </tbody>\n",
              "</table>\n",
              "</div>"
            ],
            "text/plain": [
              "    tenure  MonthlyCharges  TotalCharges\n",
              "0        1           29.85         29.85\n",
              "20       1           39.65         39.65\n",
              "22       1           20.15         20.15\n",
              "27       1           30.20         30.20\n",
              "33       1           20.20         20.20"
            ]
          },
          "execution_count": 19,
          "metadata": {},
          "output_type": "execute_result"
        }
      ],
      "source": [
        "df[['tenure', 'MonthlyCharges', 'TotalCharges']][(df['TotalCharges'] / df['MonthlyCharges']) == df['tenure']].head()"
      ]
    },
    {
      "cell_type": "markdown",
      "id": "12128a01-51a2-4a15-a8ab-d72557b413fe",
      "metadata": {
        "id": "12128a01-51a2-4a15-a8ab-d72557b413fe"
      },
      "source": [
        "Нашей гипотезе есть место быть.\n",
        "\n",
        "Значит `TotalCharges` = `MonthlyCharges` * время. В данном датасете указано только количество месяцев, без точного времени, поэтому будет грубо просто перемножить один столбец на другой. Но пропуски мы уже можем заменить на `0`, так как в тех строках `tenure` == 0.\n",
        "\n",
        "Заменим пропуски на нужное нам число."
      ]
    },
    {
      "cell_type": "code",
      "execution_count": 20,
      "id": "085bfa2f-2800-4814-9877-9fccf7c5994c",
      "metadata": {
        "id": "085bfa2f-2800-4814-9877-9fccf7c5994c",
        "tags": []
      },
      "outputs": [],
      "source": [
        "df['TotalCharges'].fillna(0, inplace=True)"
      ]
    },
    {
      "cell_type": "markdown",
      "id": "pt3BGKLdPcn9",
      "metadata": {
        "id": "pt3BGKLdPcn9"
      },
      "source": [
        "### Изменение типа данных"
      ]
    },
    {
      "cell_type": "markdown",
      "id": "12573416-214f-48ef-9a39-3d007253cf7a",
      "metadata": {
        "id": "12573416-214f-48ef-9a39-3d007253cf7a"
      },
      "source": [
        "Рассмотрев все данные, замените типы на нужные (при необходимости):\n",
        "\n",
        "- Если есть числа — на `int` или `float`\n",
        "- Если категории — можно оставить `object`"
      ]
    },
    {
      "cell_type": "code",
      "execution_count": 21,
      "id": "645e034c",
      "metadata": {},
      "outputs": [
        {
          "data": {
            "text/html": [
              "<div>\n",
              "<style scoped>\n",
              "    .dataframe tbody tr th:only-of-type {\n",
              "        vertical-align: middle;\n",
              "    }\n",
              "\n",
              "    .dataframe tbody tr th {\n",
              "        vertical-align: top;\n",
              "    }\n",
              "\n",
              "    .dataframe thead th {\n",
              "        text-align: right;\n",
              "    }\n",
              "</style>\n",
              "<table border=\"1\" class=\"dataframe\">\n",
              "  <thead>\n",
              "    <tr style=\"text-align: right;\">\n",
              "      <th></th>\n",
              "      <th>customerID</th>\n",
              "      <th>gender</th>\n",
              "      <th>SeniorCitizen</th>\n",
              "      <th>Partner</th>\n",
              "      <th>Dependents</th>\n",
              "      <th>tenure</th>\n",
              "      <th>PhoneService</th>\n",
              "      <th>MultipleLines</th>\n",
              "      <th>InternetService</th>\n",
              "      <th>OnlineSecurity</th>\n",
              "      <th>OnlineBackup</th>\n",
              "      <th>DeviceProtection</th>\n",
              "      <th>TechSupport</th>\n",
              "      <th>StreamingTV</th>\n",
              "      <th>StreamingMovies</th>\n",
              "      <th>Contract</th>\n",
              "      <th>PaperlessBilling</th>\n",
              "      <th>PaymentMethod</th>\n",
              "      <th>MonthlyCharges</th>\n",
              "      <th>TotalCharges</th>\n",
              "      <th>Churn</th>\n",
              "    </tr>\n",
              "  </thead>\n",
              "  <tbody>\n",
              "    <tr>\n",
              "      <th>6324</th>\n",
              "      <td>5022-JNQEQ</td>\n",
              "      <td>Female</td>\n",
              "      <td>0</td>\n",
              "      <td>Yes</td>\n",
              "      <td>Yes</td>\n",
              "      <td>9</td>\n",
              "      <td>Yes</td>\n",
              "      <td>No</td>\n",
              "      <td>Fiber optic</td>\n",
              "      <td>No</td>\n",
              "      <td>No</td>\n",
              "      <td>No</td>\n",
              "      <td>Yes</td>\n",
              "      <td>No</td>\n",
              "      <td>No</td>\n",
              "      <td>Month-to-month</td>\n",
              "      <td>Yes</td>\n",
              "      <td>Electronic check</td>\n",
              "      <td>75.85</td>\n",
              "      <td>647.50</td>\n",
              "      <td>No</td>\n",
              "    </tr>\n",
              "    <tr>\n",
              "      <th>4070</th>\n",
              "      <td>0531-ZZJWQ</td>\n",
              "      <td>Male</td>\n",
              "      <td>1</td>\n",
              "      <td>Yes</td>\n",
              "      <td>No</td>\n",
              "      <td>55</td>\n",
              "      <td>Yes</td>\n",
              "      <td>Yes</td>\n",
              "      <td>Fiber optic</td>\n",
              "      <td>No</td>\n",
              "      <td>No</td>\n",
              "      <td>No</td>\n",
              "      <td>No</td>\n",
              "      <td>No</td>\n",
              "      <td>No</td>\n",
              "      <td>Month-to-month</td>\n",
              "      <td>Yes</td>\n",
              "      <td>Electronic check</td>\n",
              "      <td>74.00</td>\n",
              "      <td>4052.40</td>\n",
              "      <td>No</td>\n",
              "    </tr>\n",
              "    <tr>\n",
              "      <th>4163</th>\n",
              "      <td>9253-VIFJQ</td>\n",
              "      <td>Male</td>\n",
              "      <td>0</td>\n",
              "      <td>Yes</td>\n",
              "      <td>No</td>\n",
              "      <td>65</td>\n",
              "      <td>Yes</td>\n",
              "      <td>Yes</td>\n",
              "      <td>DSL</td>\n",
              "      <td>Yes</td>\n",
              "      <td>Yes</td>\n",
              "      <td>Yes</td>\n",
              "      <td>No</td>\n",
              "      <td>No</td>\n",
              "      <td>No</td>\n",
              "      <td>One year</td>\n",
              "      <td>No</td>\n",
              "      <td>Credit card (automatic)</td>\n",
              "      <td>67.05</td>\n",
              "      <td>4309.55</td>\n",
              "      <td>No</td>\n",
              "    </tr>\n",
              "    <tr>\n",
              "      <th>6071</th>\n",
              "      <td>0401-WDBXM</td>\n",
              "      <td>Male</td>\n",
              "      <td>0</td>\n",
              "      <td>Yes</td>\n",
              "      <td>Yes</td>\n",
              "      <td>72</td>\n",
              "      <td>Yes</td>\n",
              "      <td>Yes</td>\n",
              "      <td>Fiber optic</td>\n",
              "      <td>Yes</td>\n",
              "      <td>No</td>\n",
              "      <td>Yes</td>\n",
              "      <td>No</td>\n",
              "      <td>Yes</td>\n",
              "      <td>Yes</td>\n",
              "      <td>Two year</td>\n",
              "      <td>Yes</td>\n",
              "      <td>Bank transfer (automatic)</td>\n",
              "      <td>105.55</td>\n",
              "      <td>7542.25</td>\n",
              "      <td>No</td>\n",
              "    </tr>\n",
              "    <tr>\n",
              "      <th>5201</th>\n",
              "      <td>6202-JVYEU</td>\n",
              "      <td>Male</td>\n",
              "      <td>0</td>\n",
              "      <td>No</td>\n",
              "      <td>No</td>\n",
              "      <td>9</td>\n",
              "      <td>Yes</td>\n",
              "      <td>No</td>\n",
              "      <td>No</td>\n",
              "      <td>No internet service</td>\n",
              "      <td>No internet service</td>\n",
              "      <td>No internet service</td>\n",
              "      <td>No internet service</td>\n",
              "      <td>No internet service</td>\n",
              "      <td>No internet service</td>\n",
              "      <td>One year</td>\n",
              "      <td>Yes</td>\n",
              "      <td>Electronic check</td>\n",
              "      <td>19.90</td>\n",
              "      <td>164.60</td>\n",
              "      <td>No</td>\n",
              "    </tr>\n",
              "  </tbody>\n",
              "</table>\n",
              "</div>"
            ],
            "text/plain": [
              "      customerID  gender  SeniorCitizen Partner Dependents  tenure  \\\n",
              "6324  5022-JNQEQ  Female              0     Yes        Yes       9   \n",
              "4070  0531-ZZJWQ    Male              1     Yes         No      55   \n",
              "4163  9253-VIFJQ    Male              0     Yes         No      65   \n",
              "6071  0401-WDBXM    Male              0     Yes        Yes      72   \n",
              "5201  6202-JVYEU    Male              0      No         No       9   \n",
              "\n",
              "     PhoneService MultipleLines InternetService       OnlineSecurity  \\\n",
              "6324          Yes            No     Fiber optic                   No   \n",
              "4070          Yes           Yes     Fiber optic                   No   \n",
              "4163          Yes           Yes             DSL                  Yes   \n",
              "6071          Yes           Yes     Fiber optic                  Yes   \n",
              "5201          Yes            No              No  No internet service   \n",
              "\n",
              "             OnlineBackup     DeviceProtection          TechSupport  \\\n",
              "6324                   No                   No                  Yes   \n",
              "4070                   No                   No                   No   \n",
              "4163                  Yes                  Yes                   No   \n",
              "6071                   No                  Yes                   No   \n",
              "5201  No internet service  No internet service  No internet service   \n",
              "\n",
              "              StreamingTV      StreamingMovies        Contract  \\\n",
              "6324                   No                   No  Month-to-month   \n",
              "4070                   No                   No  Month-to-month   \n",
              "4163                   No                   No        One year   \n",
              "6071                  Yes                  Yes        Two year   \n",
              "5201  No internet service  No internet service        One year   \n",
              "\n",
              "     PaperlessBilling              PaymentMethod  MonthlyCharges  \\\n",
              "6324              Yes           Electronic check           75.85   \n",
              "4070              Yes           Electronic check           74.00   \n",
              "4163               No    Credit card (automatic)           67.05   \n",
              "6071              Yes  Bank transfer (automatic)          105.55   \n",
              "5201              Yes           Electronic check           19.90   \n",
              "\n",
              "      TotalCharges Churn  \n",
              "6324        647.50    No  \n",
              "4070       4052.40    No  \n",
              "4163       4309.55    No  \n",
              "6071       7542.25    No  \n",
              "5201        164.60    No  "
            ]
          },
          "execution_count": 21,
          "metadata": {},
          "output_type": "execute_result"
        }
      ],
      "source": [
        "df.sample(5)"
      ]
    },
    {
      "cell_type": "code",
      "execution_count": 22,
      "id": "a91f37e8",
      "metadata": {},
      "outputs": [
        {
          "name": "stdout",
          "output_type": "stream",
          "text": [
            "<class 'pandas.core.frame.DataFrame'>\n",
            "RangeIndex: 7043 entries, 0 to 7042\n",
            "Data columns (total 21 columns):\n",
            " #   Column            Non-Null Count  Dtype  \n",
            "---  ------            --------------  -----  \n",
            " 0   customerID        7043 non-null   object \n",
            " 1   gender            7043 non-null   object \n",
            " 2   SeniorCitizen     7043 non-null   int64  \n",
            " 3   Partner           7043 non-null   object \n",
            " 4   Dependents        7043 non-null   object \n",
            " 5   tenure            7043 non-null   int64  \n",
            " 6   PhoneService      7043 non-null   object \n",
            " 7   MultipleLines     7043 non-null   object \n",
            " 8   InternetService   7043 non-null   object \n",
            " 9   OnlineSecurity    7043 non-null   object \n",
            " 10  OnlineBackup      7043 non-null   object \n",
            " 11  DeviceProtection  7043 non-null   object \n",
            " 12  TechSupport       7043 non-null   object \n",
            " 13  StreamingTV       7043 non-null   object \n",
            " 14  StreamingMovies   7043 non-null   object \n",
            " 15  Contract          7043 non-null   object \n",
            " 16  PaperlessBilling  7043 non-null   object \n",
            " 17  PaymentMethod     7043 non-null   object \n",
            " 18  MonthlyCharges    7043 non-null   float64\n",
            " 19  TotalCharges      7043 non-null   float64\n",
            " 20  Churn             7043 non-null   object \n",
            "dtypes: float64(2), int64(2), object(17)\n",
            "memory usage: 1.1+ MB\n"
          ]
        }
      ],
      "source": [
        "df.info()"
      ]
    },
    {
      "attachments": {},
      "cell_type": "markdown",
      "id": "6e2ca993-d92d-4ea3-bca5-6408708f6e83",
      "metadata": {
        "id": "6e2ca993-d92d-4ea3-bca5-6408708f6e83"
      },
      "source": [
        "**Вывод:**\n",
        "- Столбцы `SeniorCitizen`, `tenure`, `MonthlyCharges`, `TotalCharges` имеют числовой тип, остальные являются категориальными."
      ]
    },
    {
      "cell_type": "markdown",
      "id": "84339281",
      "metadata": {
        "id": "84339281",
        "papermill": {
          "duration": 0.135596,
          "end_time": "2022-09-17T00:13:12.914231",
          "exception": false,
          "start_time": "2022-09-17T00:13:12.778635",
          "status": "completed"
        },
        "tags": []
      },
      "source": [
        "# 4. Проверка гипотез"
      ]
    },
    {
      "cell_type": "markdown",
      "id": "a6d6cc55-2a27-45ac-9f63-6ba92410d0ae",
      "metadata": {
        "id": "a6d6cc55-2a27-45ac-9f63-6ba92410d0ae"
      },
      "source": [
        "Задание: сравнить две выборки — `Churn='No'` и `Churn='Yes'` \n",
        "\n",
        "Гипотеза — среднее количество месяцев, в течение которых клиент оставался в компании, отличается между двумя выборками."
      ]
    },
    {
      "cell_type": "code",
      "execution_count": 23,
      "id": "6c7901de",
      "metadata": {},
      "outputs": [],
      "source": [
        "h_df = pd.DataFrame({'churn_no': df['tenure'][df.Churn == 'No'],\n",
        "                     'churn_yes': df['tenure'][df.Churn == 'Yes']})"
      ]
    },
    {
      "cell_type": "code",
      "execution_count": 24,
      "id": "40177c2a",
      "metadata": {},
      "outputs": [
        {
          "data": {
            "image/png": "[encoded data removed]",
            "text/plain": [
              "<Figure size 1000x500 with 1 Axes>"
            ]
          },
          "metadata": {},
          "output_type": "display_data"
        }
      ],
      "source": [
        "h_df.churn_no.hist(bins=50, figsize=(10, 5), legend='Churn = No')\n",
        "plt.axvline(h_df.churn_no.mean(), color='blue', linestyle='dashed', linewidth=2, label='Mean')\n",
        "h_df.churn_yes.hist(bins=50, figsize=(10, 5), legend='Churn = Yes')\n",
        "plt.axvline(h_df.churn_yes.mean(), color='red', linestyle='dashed', linewidth=2, label='Mean')\n",
        "plt.legend()\n",
        "plt.show()"
      ]
    },
    {
      "cell_type": "code",
      "execution_count": 25,
      "id": "acc016b3",
      "metadata": {},
      "outputs": [
        {
          "data": {
            "text/plain": [
              "churn_no     37.569965\n",
              "churn_yes    17.979133\n",
              "dtype: float64"
            ]
          },
          "execution_count": 25,
          "metadata": {},
          "output_type": "execute_result"
        }
      ],
      "source": [
        "h_df.apply('mean')"
      ]
    },
    {
      "cell_type": "code",
      "execution_count": 47,
      "id": "ea496907",
      "metadata": {},
      "outputs": [
        {
          "name": "stdout",
          "output_type": "stream",
          "text": [
            "P-value: nan. Нулевая гипотеза отвергается\n"
          ]
        }
      ],
      "source": [
        "alpha = .05\n",
        "\n",
        "_, pvalue = stats.ttest_ind(df['tenure'][df.Churn == 'No'], df['tenure'][df.Churn == 'Yes'])\n",
        "\n",
        "print(f\"P-value: {pvalue:.5f}. Нулевая гипотеза\", \"подтверждается\" if pvalue > alpha else \"отвергается\")"
      ]
    },
    {
      "attachments": {},
      "cell_type": "markdown",
      "id": "66691f06-afde-4300-99f9-a4c781878d68",
      "metadata": {
        "id": "66691f06-afde-4300-99f9-a4c781878d68"
      },
      "source": [
        "**Вывод:**\n",
        "- **H0: среднее количество месяцев, в течение которых клиент оставался в компании, не отличается между двумя выборками.**\n",
        "- **H1: среднее количество месяцев, в течение которых клиент оставался в компании, отличается между двумя выборками.**\n",
        "- Можно воспользоваться методом `scipy.stats_ind`, который определяет статистическую значимость различий между средними значениями двух независимых выборок. Если `P-value < alpha`, то значит средние выборок отличаются.\n",
        "- Основная гипотеза подтвердилась - среднее количество месяцев отличается, причём оно больше у тех, кто не ушёл."
      ]
    },
    {
      "cell_type": "markdown",
      "id": "182612f7",
      "metadata": {
        "id": "182612f7",
        "papermill": {
          "duration": 0.135397,
          "end_time": "2022-09-17T00:13:13.186292",
          "exception": false,
          "start_time": "2022-09-17T00:13:13.050895",
          "status": "completed"
        },
        "tags": []
      },
      "source": [
        "## 5. Статистический анализ на норму"
      ]
    },
    {
      "cell_type": "markdown",
      "id": "c9cdddbd-896d-48af-9b88-662204560cb7",
      "metadata": {
        "id": "c9cdddbd-896d-48af-9b88-662204560cb7"
      },
      "source": [
        "Задание: выберите числовые признаки и проведите анализ — соответствуют ли распределения нормальному?"
      ]
    },
    {
      "attachments": {},
      "cell_type": "markdown",
      "id": "c524a9d9",
      "metadata": {},
      "source": [
        "Для проверки нормальности можно воспользоваться одним из трёх тестов: `K'2-тест Д'Агостино`, `Критерий Шапиро-Уилка` (который не подходит для нашей выборки из-за размера `>5000`), и `Критерий-Андерсона-Дарлинга`.\n",
        "\n",
        "- **H0: выборка имеет распределение по Гауссу.**\n",
        "- **H1: выборка не имеет распределения по Гауссу.**"
      ]
    },
    {
      "cell_type": "code",
      "execution_count": 27,
      "id": "7cf1ce3c-4ee0-4a63-a3fc-a0ef35e759f6",
      "metadata": {
        "id": "7cf1ce3c-4ee0-4a63-a3fc-a0ef35e759f6"
      },
      "outputs": [
        {
          "name": "stdout",
          "output_type": "stream",
          "text": [
            "<class 'pandas.core.frame.DataFrame'>\n",
            "RangeIndex: 7043 entries, 0 to 7042\n",
            "Data columns (total 21 columns):\n",
            " #   Column            Non-Null Count  Dtype  \n",
            "---  ------            --------------  -----  \n",
            " 0   customerID        7043 non-null   object \n",
            " 1   gender            7043 non-null   object \n",
            " 2   SeniorCitizen     7043 non-null   int64  \n",
            " 3   Partner           7043 non-null   object \n",
            " 4   Dependents        7043 non-null   object \n",
            " 5   tenure            7043 non-null   int64  \n",
            " 6   PhoneService      7043 non-null   object \n",
            " 7   MultipleLines     7043 non-null   object \n",
            " 8   InternetService   7043 non-null   object \n",
            " 9   OnlineSecurity    7043 non-null   object \n",
            " 10  OnlineBackup      7043 non-null   object \n",
            " 11  DeviceProtection  7043 non-null   object \n",
            " 12  TechSupport       7043 non-null   object \n",
            " 13  StreamingTV       7043 non-null   object \n",
            " 14  StreamingMovies   7043 non-null   object \n",
            " 15  Contract          7043 non-null   object \n",
            " 16  PaperlessBilling  7043 non-null   object \n",
            " 17  PaymentMethod     7043 non-null   object \n",
            " 18  MonthlyCharges    7043 non-null   float64\n",
            " 19  TotalCharges      7043 non-null   float64\n",
            " 20  Churn             7043 non-null   object \n",
            "dtypes: float64(2), int64(2), object(17)\n",
            "memory usage: 1.1+ MB\n"
          ]
        }
      ],
      "source": [
        "df.info()"
      ]
    },
    {
      "cell_type": "code",
      "execution_count": 28,
      "id": "c5c7251c-09de-40c2-8fc6-372e9dc30d19",
      "metadata": {
        "id": "c5c7251c-09de-40c2-8fc6-372e9dc30d19"
      },
      "outputs": [
        {
          "data": {
            "text/plain": [
              "<Axes: >"
            ]
          },
          "execution_count": 28,
          "metadata": {},
          "output_type": "execute_result"
        },
        {
          "data": {
            "image/png": "[encoded data removed]",
            "text/plain": [
              "<Figure size 800x300 with 1 Axes>"
            ]
          },
          "metadata": {},
          "output_type": "display_data"
        }
      ],
      "source": [
        "df.tenure.hist(bins=30, figsize=(8, 3))"
      ]
    },
    {
      "cell_type": "code",
      "execution_count": 29,
      "id": "a273aafe",
      "metadata": {},
      "outputs": [
        {
          "name": "stdout",
          "output_type": "stream",
          "text": [
            "P-value:0.00000. Нулевая гипотеза отвергается\n"
          ]
        }
      ],
      "source": [
        "alpha = .05\n",
        "\n",
        "_, pvalue = stats.normaltest(df.tenure)\n",
        "\n",
        "print(f'P-value:{pvalue:.5f}. Нулевая гипотеза', 'отвергается' if pvalue < alpha else 'подтверждается')"
      ]
    },
    {
      "cell_type": "code",
      "execution_count": 30,
      "id": "dc93029d",
      "metadata": {},
      "outputs": [
        {
          "data": {
            "text/plain": [
              "<Axes: >"
            ]
          },
          "execution_count": 30,
          "metadata": {},
          "output_type": "execute_result"
        },
        {
          "data": {
            "image/png": "[encoded data removed]",
            "text/plain": [
              "<Figure size 800x300 with 1 Axes>"
            ]
          },
          "metadata": {},
          "output_type": "display_data"
        }
      ],
      "source": [
        "df.MonthlyCharges.hist(bins=30, figsize=(8, 3))"
      ]
    },
    {
      "cell_type": "code",
      "execution_count": 31,
      "id": "00160f28",
      "metadata": {},
      "outputs": [
        {
          "name": "stdout",
          "output_type": "stream",
          "text": [
            "P-value:0.00000. Нулевая гипотеза отвергается\n"
          ]
        }
      ],
      "source": [
        "alpha = .05\n",
        "\n",
        "_, pvalue = stats.normaltest(df.MonthlyCharges)\n",
        "\n",
        "print(f'P-value:{pvalue:.5f}. Нулевая гипотеза', 'отвергается' if pvalue < alpha else 'подтверждается')"
      ]
    },
    {
      "cell_type": "code",
      "execution_count": 32,
      "id": "20768207",
      "metadata": {},
      "outputs": [
        {
          "data": {
            "text/plain": [
              "<Axes: >"
            ]
          },
          "execution_count": 32,
          "metadata": {},
          "output_type": "execute_result"
        },
        {
          "data": {
            "image/png": "[encoded data removed]",
            "text/plain": [
              "<Figure size 800x300 with 1 Axes>"
            ]
          },
          "metadata": {},
          "output_type": "display_data"
        }
      ],
      "source": [
        "df.TotalCharges.hist(bins=30, figsize=(8, 3))"
      ]
    },
    {
      "cell_type": "code",
      "execution_count": 33,
      "id": "a22ad7ad",
      "metadata": {},
      "outputs": [
        {
          "name": "stdout",
          "output_type": "stream",
          "text": [
            "P-value:0.00000. Нулевая гипотеза отвергается\n"
          ]
        }
      ],
      "source": [
        "alpha = .05\n",
        "\n",
        "_, pvalue = stats.normaltest(df.TotalCharges)\n",
        "\n",
        "print(f'P-value:{pvalue:.5f}. Нулевая гипотеза', 'отвергается' if pvalue < alpha else 'подтверждается')"
      ]
    },
    {
      "attachments": {},
      "cell_type": "markdown",
      "id": "b9040662-d2e5-4bfe-9d50-e7070ea54714",
      "metadata": {
        "id": "b9040662-d2e5-4bfe-9d50-e7070ea54714"
      },
      "source": [
        "**Вывод:**\n",
        "- Анализ показал, что ни одна из выборок не является нормальной."
      ]
    },
    {
      "cell_type": "markdown",
      "id": "c99ad67d-b05b-42d2-bf68-3f887a938f35",
      "metadata": {
        "id": "c99ad67d-b05b-42d2-bf68-3f887a938f35",
        "tags": []
      },
      "source": [
        "## 6. ЗАДАЧИ PRO"
      ]
    },
    {
      "cell_type": "markdown",
      "id": "21df731c-c6c5-48e5-8ea0-a8231b8a0141",
      "metadata": {
        "id": "21df731c-c6c5-48e5-8ea0-a8231b8a0141"
      },
      "source": [
        "Мы провели базовый анализ выше и сделали выводы.\n",
        "\n",
        "Но требование заказчика — выяснить причину ухода клиента.\n",
        "\n",
        "Ваша задача — провести полный анализ с помощью статистических гипотез взаимосвязи всех признаков с нашим таргетом `Churn` (целевым признаком). \n",
        "\n",
        "**Этапы:**\n",
        "\n",
        "1.\tПредобработка данных — измените датасет в части: категориальные признаки надо перевести в числовые представления. Главное —понимать взаимосвязь: бинарный признак, порядковый, просто категории или что-то иное.\n",
        "2.\tВыберите нужные гипотезы, основываясь на типах признаков.\n",
        "3.\tПроведите анализ и выясните, почему клиент уходит, с чем коррелирует Churn, может это зависит от пола клиента? Или есть иные обстоятельства?\n",
        "4.\tПосле проверки гипотез постройте тепловую карту корреляции Phik и сделайте дополнительный вывод.\n",
        "5.\tДополните общий вывод.\n",
        "\n",
        "\n",
        "**Примечание:** задание не ограничено только этими этапами. Можно их дополнить — может стоит сделать фильтр данных, рассмотреть данные под другим углом и провести дополнительную аналитику? Средствами и методами не ограничены."
      ]
    },
    {
      "cell_type": "code",
      "execution_count": 34,
      "id": "c4f2f3b9",
      "metadata": {},
      "outputs": [
        {
          "data": {
            "text/plain": [
              "customerID          7043\n",
              "gender                 2\n",
              "SeniorCitizen          2\n",
              "Partner                2\n",
              "Dependents             2\n",
              "tenure                73\n",
              "PhoneService           2\n",
              "MultipleLines          3\n",
              "InternetService        3\n",
              "OnlineSecurity         3\n",
              "OnlineBackup           3\n",
              "DeviceProtection       3\n",
              "TechSupport            3\n",
              "StreamingTV            3\n",
              "StreamingMovies        3\n",
              "Contract               3\n",
              "PaperlessBilling       2\n",
              "PaymentMethod          4\n",
              "MonthlyCharges      1585\n",
              "TotalCharges        6531\n",
              "Churn                  2\n",
              "dtype: int64"
            ]
          },
          "execution_count": 34,
          "metadata": {},
          "output_type": "execute_result"
        }
      ],
      "source": [
        "df.nunique()"
      ]
    },
    {
      "cell_type": "code",
      "execution_count": 38,
      "id": "f4dbb7df",
      "metadata": {},
      "outputs": [
        {
          "data": {
            "text/plain": [
              "array(['DSL', 'Fiber optic', 'No'], dtype=object)"
            ]
          },
          "execution_count": 38,
          "metadata": {},
          "output_type": "execute_result"
        }
      ],
      "source": [
        "df.InternetService.unique()"
      ]
    },
    {
      "cell_type": "code",
      "execution_count": 36,
      "id": "0984e714",
      "metadata": {},
      "outputs": [
        {
          "data": {
            "text/html": [
              "<div>\n",
              "<style scoped>\n",
              "    .dataframe tbody tr th:only-of-type {\n",
              "        vertical-align: middle;\n",
              "    }\n",
              "\n",
              "    .dataframe tbody tr th {\n",
              "        vertical-align: top;\n",
              "    }\n",
              "\n",
              "    .dataframe thead th {\n",
              "        text-align: right;\n",
              "    }\n",
              "</style>\n",
              "<table border=\"1\" class=\"dataframe\">\n",
              "  <thead>\n",
              "    <tr style=\"text-align: right;\">\n",
              "      <th></th>\n",
              "      <th>customerID</th>\n",
              "      <th>gender</th>\n",
              "      <th>SeniorCitizen</th>\n",
              "      <th>Partner</th>\n",
              "      <th>Dependents</th>\n",
              "      <th>tenure</th>\n",
              "      <th>PhoneService</th>\n",
              "      <th>MultipleLines</th>\n",
              "      <th>InternetService</th>\n",
              "      <th>OnlineSecurity</th>\n",
              "      <th>OnlineBackup</th>\n",
              "      <th>DeviceProtection</th>\n",
              "      <th>TechSupport</th>\n",
              "      <th>StreamingTV</th>\n",
              "      <th>StreamingMovies</th>\n",
              "      <th>Contract</th>\n",
              "      <th>PaperlessBilling</th>\n",
              "      <th>PaymentMethod</th>\n",
              "      <th>MonthlyCharges</th>\n",
              "      <th>TotalCharges</th>\n",
              "      <th>Churn</th>\n",
              "    </tr>\n",
              "  </thead>\n",
              "  <tbody>\n",
              "    <tr>\n",
              "      <th>0</th>\n",
              "      <td>7590-VHVEG</td>\n",
              "      <td>Female</td>\n",
              "      <td>0</td>\n",
              "      <td>Yes</td>\n",
              "      <td>No</td>\n",
              "      <td>1</td>\n",
              "      <td>No</td>\n",
              "      <td>No phone service</td>\n",
              "      <td>DSL</td>\n",
              "      <td>No</td>\n",
              "      <td>Yes</td>\n",
              "      <td>No</td>\n",
              "      <td>No</td>\n",
              "      <td>No</td>\n",
              "      <td>No</td>\n",
              "      <td>Month-to-month</td>\n",
              "      <td>Yes</td>\n",
              "      <td>Electronic check</td>\n",
              "      <td>29.85</td>\n",
              "      <td>29.85</td>\n",
              "      <td>No</td>\n",
              "    </tr>\n",
              "    <tr>\n",
              "      <th>1</th>\n",
              "      <td>5575-GNVDE</td>\n",
              "      <td>Male</td>\n",
              "      <td>0</td>\n",
              "      <td>No</td>\n",
              "      <td>No</td>\n",
              "      <td>34</td>\n",
              "      <td>Yes</td>\n",
              "      <td>No</td>\n",
              "      <td>DSL</td>\n",
              "      <td>Yes</td>\n",
              "      <td>No</td>\n",
              "      <td>Yes</td>\n",
              "      <td>No</td>\n",
              "      <td>No</td>\n",
              "      <td>No</td>\n",
              "      <td>One year</td>\n",
              "      <td>No</td>\n",
              "      <td>Mailed check</td>\n",
              "      <td>56.95</td>\n",
              "      <td>1889.50</td>\n",
              "      <td>No</td>\n",
              "    </tr>\n",
              "    <tr>\n",
              "      <th>2</th>\n",
              "      <td>3668-QPYBK</td>\n",
              "      <td>Male</td>\n",
              "      <td>0</td>\n",
              "      <td>No</td>\n",
              "      <td>No</td>\n",
              "      <td>2</td>\n",
              "      <td>Yes</td>\n",
              "      <td>No</td>\n",
              "      <td>DSL</td>\n",
              "      <td>Yes</td>\n",
              "      <td>Yes</td>\n",
              "      <td>No</td>\n",
              "      <td>No</td>\n",
              "      <td>No</td>\n",
              "      <td>No</td>\n",
              "      <td>Month-to-month</td>\n",
              "      <td>Yes</td>\n",
              "      <td>Mailed check</td>\n",
              "      <td>53.85</td>\n",
              "      <td>108.15</td>\n",
              "      <td>Yes</td>\n",
              "    </tr>\n",
              "    <tr>\n",
              "      <th>3</th>\n",
              "      <td>7795-CFOCW</td>\n",
              "      <td>Male</td>\n",
              "      <td>0</td>\n",
              "      <td>No</td>\n",
              "      <td>No</td>\n",
              "      <td>45</td>\n",
              "      <td>No</td>\n",
              "      <td>No phone service</td>\n",
              "      <td>DSL</td>\n",
              "      <td>Yes</td>\n",
              "      <td>No</td>\n",
              "      <td>Yes</td>\n",
              "      <td>Yes</td>\n",
              "      <td>No</td>\n",
              "      <td>No</td>\n",
              "      <td>One year</td>\n",
              "      <td>No</td>\n",
              "      <td>Bank transfer (automatic)</td>\n",
              "      <td>42.30</td>\n",
              "      <td>1840.75</td>\n",
              "      <td>No</td>\n",
              "    </tr>\n",
              "    <tr>\n",
              "      <th>4</th>\n",
              "      <td>9237-HQITU</td>\n",
              "      <td>Female</td>\n",
              "      <td>0</td>\n",
              "      <td>No</td>\n",
              "      <td>No</td>\n",
              "      <td>2</td>\n",
              "      <td>Yes</td>\n",
              "      <td>No</td>\n",
              "      <td>Fiber optic</td>\n",
              "      <td>No</td>\n",
              "      <td>No</td>\n",
              "      <td>No</td>\n",
              "      <td>No</td>\n",
              "      <td>No</td>\n",
              "      <td>No</td>\n",
              "      <td>Month-to-month</td>\n",
              "      <td>Yes</td>\n",
              "      <td>Electronic check</td>\n",
              "      <td>70.70</td>\n",
              "      <td>151.65</td>\n",
              "      <td>Yes</td>\n",
              "    </tr>\n",
              "  </tbody>\n",
              "</table>\n",
              "</div>"
            ],
            "text/plain": [
              "   customerID  gender  SeniorCitizen Partner Dependents  tenure PhoneService  \\\n",
              "0  7590-VHVEG  Female              0     Yes         No       1           No   \n",
              "1  5575-GNVDE    Male              0      No         No      34          Yes   \n",
              "2  3668-QPYBK    Male              0      No         No       2          Yes   \n",
              "3  7795-CFOCW    Male              0      No         No      45           No   \n",
              "4  9237-HQITU  Female              0      No         No       2          Yes   \n",
              "\n",
              "      MultipleLines InternetService OnlineSecurity OnlineBackup  \\\n",
              "0  No phone service             DSL             No          Yes   \n",
              "1                No             DSL            Yes           No   \n",
              "2                No             DSL            Yes          Yes   \n",
              "3  No phone service             DSL            Yes           No   \n",
              "4                No     Fiber optic             No           No   \n",
              "\n",
              "  DeviceProtection TechSupport StreamingTV StreamingMovies        Contract  \\\n",
              "0               No          No          No              No  Month-to-month   \n",
              "1              Yes          No          No              No        One year   \n",
              "2               No          No          No              No  Month-to-month   \n",
              "3              Yes         Yes          No              No        One year   \n",
              "4               No          No          No              No  Month-to-month   \n",
              "\n",
              "  PaperlessBilling              PaymentMethod  MonthlyCharges  TotalCharges  \\\n",
              "0              Yes           Electronic check           29.85         29.85   \n",
              "1               No               Mailed check           56.95       1889.50   \n",
              "2              Yes               Mailed check           53.85        108.15   \n",
              "3               No  Bank transfer (automatic)           42.30       1840.75   \n",
              "4              Yes           Electronic check           70.70        151.65   \n",
              "\n",
              "  Churn  \n",
              "0    No  \n",
              "1    No  \n",
              "2   Yes  \n",
              "3    No  \n",
              "4   Yes  "
            ]
          },
          "execution_count": 36,
          "metadata": {},
          "output_type": "execute_result"
        }
      ],
      "source": [
        "df.head()"
      ]
    },
    {
      "attachments": {},
      "cell_type": "markdown",
      "id": "34640252",
      "metadata": {},
      "source": [
        "Большинство столбцов предствлены бинарными типами (а в некоторых присутвует третье значени `No phone service` или `No internet service`). Их можно преобразовать в числовой тип, произведя замену `Yes = 1`, `No = 0`, `No phone service = 0`, `No internet service = 0`. Столбцы gender, `InternetService`, `Contract`, `PaymentMethod` содержат категории, их можно преобразовать в числовые с помощью функции `factorize`, присвоив каждой категории свой код."
      ]
    },
    {
      "cell_type": "code",
      "execution_count": 39,
      "id": "98be02ee",
      "metadata": {},
      "outputs": [],
      "source": [
        "columns_to_convert = ['Partner', 'Dependents', 'PhoneService', 'MultipleLines', 'OnlineSecurity', 'OnlineBackup', \n",
        "                      'DeviceProtection', 'TechSupport', 'StreamingTV', 'StreamingMovies', 'PaperlessBilling', 'Churn']\n",
        "\n",
        "conversion_mapping = {'Yes': 1, 'No': 0, 'No phone service': 0, 'No internet service': 0}\n",
        "\n",
        "df[columns_to_convert] = df[columns_to_convert].replace(conversion_mapping).astype(int)"
      ]
    },
    {
      "cell_type": "code",
      "execution_count": 42,
      "id": "0ad46f0d",
      "metadata": {},
      "outputs": [],
      "source": [
        "for col in df[['gender', 'InternetService', 'Contract', 'PaymentMethod']]:\n",
        "    df[col] = df[col].factorize()[0]"
      ]
    },
    {
      "cell_type": "code",
      "execution_count": 43,
      "id": "015b7f2f",
      "metadata": {},
      "outputs": [
        {
          "data": {
            "text/html": [
              "<div>\n",
              "<style scoped>\n",
              "    .dataframe tbody tr th:only-of-type {\n",
              "        vertical-align: middle;\n",
              "    }\n",
              "\n",
              "    .dataframe tbody tr th {\n",
              "        vertical-align: top;\n",
              "    }\n",
              "\n",
              "    .dataframe thead th {\n",
              "        text-align: right;\n",
              "    }\n",
              "</style>\n",
              "<table border=\"1\" class=\"dataframe\">\n",
              "  <thead>\n",
              "    <tr style=\"text-align: right;\">\n",
              "      <th></th>\n",
              "      <th>customerID</th>\n",
              "      <th>gender</th>\n",
              "      <th>SeniorCitizen</th>\n",
              "      <th>Partner</th>\n",
              "      <th>Dependents</th>\n",
              "      <th>tenure</th>\n",
              "      <th>PhoneService</th>\n",
              "      <th>MultipleLines</th>\n",
              "      <th>InternetService</th>\n",
              "      <th>OnlineSecurity</th>\n",
              "      <th>OnlineBackup</th>\n",
              "      <th>DeviceProtection</th>\n",
              "      <th>TechSupport</th>\n",
              "      <th>StreamingTV</th>\n",
              "      <th>StreamingMovies</th>\n",
              "      <th>Contract</th>\n",
              "      <th>PaperlessBilling</th>\n",
              "      <th>PaymentMethod</th>\n",
              "      <th>MonthlyCharges</th>\n",
              "      <th>TotalCharges</th>\n",
              "      <th>Churn</th>\n",
              "    </tr>\n",
              "  </thead>\n",
              "  <tbody>\n",
              "    <tr>\n",
              "      <th>0</th>\n",
              "      <td>7590-VHVEG</td>\n",
              "      <td>0</td>\n",
              "      <td>0</td>\n",
              "      <td>1</td>\n",
              "      <td>0</td>\n",
              "      <td>1</td>\n",
              "      <td>0</td>\n",
              "      <td>0</td>\n",
              "      <td>0</td>\n",
              "      <td>0</td>\n",
              "      <td>1</td>\n",
              "      <td>0</td>\n",
              "      <td>0</td>\n",
              "      <td>0</td>\n",
              "      <td>0</td>\n",
              "      <td>0</td>\n",
              "      <td>1</td>\n",
              "      <td>0</td>\n",
              "      <td>29.85</td>\n",
              "      <td>29.85</td>\n",
              "      <td>0</td>\n",
              "    </tr>\n",
              "    <tr>\n",
              "      <th>1</th>\n",
              "      <td>5575-GNVDE</td>\n",
              "      <td>1</td>\n",
              "      <td>0</td>\n",
              "      <td>0</td>\n",
              "      <td>0</td>\n",
              "      <td>34</td>\n",
              "      <td>1</td>\n",
              "      <td>0</td>\n",
              "      <td>0</td>\n",
              "      <td>1</td>\n",
              "      <td>0</td>\n",
              "      <td>1</td>\n",
              "      <td>0</td>\n",
              "      <td>0</td>\n",
              "      <td>0</td>\n",
              "      <td>1</td>\n",
              "      <td>0</td>\n",
              "      <td>1</td>\n",
              "      <td>56.95</td>\n",
              "      <td>1889.50</td>\n",
              "      <td>0</td>\n",
              "    </tr>\n",
              "    <tr>\n",
              "      <th>2</th>\n",
              "      <td>3668-QPYBK</td>\n",
              "      <td>1</td>\n",
              "      <td>0</td>\n",
              "      <td>0</td>\n",
              "      <td>0</td>\n",
              "      <td>2</td>\n",
              "      <td>1</td>\n",
              "      <td>0</td>\n",
              "      <td>0</td>\n",
              "      <td>1</td>\n",
              "      <td>1</td>\n",
              "      <td>0</td>\n",
              "      <td>0</td>\n",
              "      <td>0</td>\n",
              "      <td>0</td>\n",
              "      <td>0</td>\n",
              "      <td>1</td>\n",
              "      <td>1</td>\n",
              "      <td>53.85</td>\n",
              "      <td>108.15</td>\n",
              "      <td>1</td>\n",
              "    </tr>\n",
              "    <tr>\n",
              "      <th>3</th>\n",
              "      <td>7795-CFOCW</td>\n",
              "      <td>1</td>\n",
              "      <td>0</td>\n",
              "      <td>0</td>\n",
              "      <td>0</td>\n",
              "      <td>45</td>\n",
              "      <td>0</td>\n",
              "      <td>0</td>\n",
              "      <td>0</td>\n",
              "      <td>1</td>\n",
              "      <td>0</td>\n",
              "      <td>1</td>\n",
              "      <td>1</td>\n",
              "      <td>0</td>\n",
              "      <td>0</td>\n",
              "      <td>1</td>\n",
              "      <td>0</td>\n",
              "      <td>2</td>\n",
              "      <td>42.30</td>\n",
              "      <td>1840.75</td>\n",
              "      <td>0</td>\n",
              "    </tr>\n",
              "    <tr>\n",
              "      <th>4</th>\n",
              "      <td>9237-HQITU</td>\n",
              "      <td>0</td>\n",
              "      <td>0</td>\n",
              "      <td>0</td>\n",
              "      <td>0</td>\n",
              "      <td>2</td>\n",
              "      <td>1</td>\n",
              "      <td>0</td>\n",
              "      <td>1</td>\n",
              "      <td>0</td>\n",
              "      <td>0</td>\n",
              "      <td>0</td>\n",
              "      <td>0</td>\n",
              "      <td>0</td>\n",
              "      <td>0</td>\n",
              "      <td>0</td>\n",
              "      <td>1</td>\n",
              "      <td>0</td>\n",
              "      <td>70.70</td>\n",
              "      <td>151.65</td>\n",
              "      <td>1</td>\n",
              "    </tr>\n",
              "  </tbody>\n",
              "</table>\n",
              "</div>"
            ],
            "text/plain": [
              "   customerID  gender  SeniorCitizen  Partner  Dependents  tenure  \\\n",
              "0  7590-VHVEG       0              0        1           0       1   \n",
              "1  5575-GNVDE       1              0        0           0      34   \n",
              "2  3668-QPYBK       1              0        0           0       2   \n",
              "3  7795-CFOCW       1              0        0           0      45   \n",
              "4  9237-HQITU       0              0        0           0       2   \n",
              "\n",
              "   PhoneService  MultipleLines  InternetService  OnlineSecurity  OnlineBackup  \\\n",
              "0             0              0                0               0             1   \n",
              "1             1              0                0               1             0   \n",
              "2             1              0                0               1             1   \n",
              "3             0              0                0               1             0   \n",
              "4             1              0                1               0             0   \n",
              "\n",
              "   DeviceProtection  TechSupport  StreamingTV  StreamingMovies  Contract  \\\n",
              "0                 0            0            0                0         0   \n",
              "1                 1            0            0                0         1   \n",
              "2                 0            0            0                0         0   \n",
              "3                 1            1            0                0         1   \n",
              "4                 0            0            0                0         0   \n",
              "\n",
              "   PaperlessBilling  PaymentMethod  MonthlyCharges  TotalCharges  Churn  \n",
              "0                 1              0           29.85         29.85      0  \n",
              "1                 0              1           56.95       1889.50      0  \n",
              "2                 1              1           53.85        108.15      1  \n",
              "3                 0              2           42.30       1840.75      0  \n",
              "4                 1              0           70.70        151.65      1  "
            ]
          },
          "execution_count": 43,
          "metadata": {},
          "output_type": "execute_result"
        }
      ],
      "source": [
        "df.head()"
      ]
    },
    {
      "cell_type": "code",
      "execution_count": 44,
      "id": "652615f7",
      "metadata": {},
      "outputs": [
        {
          "name": "stdout",
          "output_type": "stream",
          "text": [
            "<class 'pandas.core.frame.DataFrame'>\n",
            "RangeIndex: 7043 entries, 0 to 7042\n",
            "Data columns (total 21 columns):\n",
            " #   Column            Non-Null Count  Dtype  \n",
            "---  ------            --------------  -----  \n",
            " 0   customerID        7043 non-null   object \n",
            " 1   gender            7043 non-null   int64  \n",
            " 2   SeniorCitizen     7043 non-null   int64  \n",
            " 3   Partner           7043 non-null   int32  \n",
            " 4   Dependents        7043 non-null   int32  \n",
            " 5   tenure            7043 non-null   int64  \n",
            " 6   PhoneService      7043 non-null   int32  \n",
            " 7   MultipleLines     7043 non-null   int32  \n",
            " 8   InternetService   7043 non-null   int64  \n",
            " 9   OnlineSecurity    7043 non-null   int32  \n",
            " 10  OnlineBackup      7043 non-null   int32  \n",
            " 11  DeviceProtection  7043 non-null   int32  \n",
            " 12  TechSupport       7043 non-null   int32  \n",
            " 13  StreamingTV       7043 non-null   int32  \n",
            " 14  StreamingMovies   7043 non-null   int32  \n",
            " 15  Contract          7043 non-null   int64  \n",
            " 16  PaperlessBilling  7043 non-null   int32  \n",
            " 17  PaymentMethod     7043 non-null   int64  \n",
            " 18  MonthlyCharges    7043 non-null   float64\n",
            " 19  TotalCharges      7043 non-null   float64\n",
            " 20  Churn             7043 non-null   int32  \n",
            "dtypes: float64(2), int32(12), int64(6), object(1)\n",
            "memory usage: 825.5+ KB\n"
          ]
        }
      ],
      "source": [
        "df.info()"
      ]
    },
    {
      "attachments": {},
      "cell_type": "markdown",
      "id": "1aabe650",
      "metadata": {},
      "source": [
        "### Определим гипотезы, по которым клиенты отказываются от услуг компании:\n",
        "- (Нулевая гипотеза : Альтернативная гипотеза)\n",
        "- Количество ушедших мужчин и женщин равно : количество различается\n",
        "- Пожилые и молодые уходят одинаково часто : молодые уходят чаще\n",
        "- Клиенты с партнёром и без уходят одинкового : клинты с партнёрами дольше остаются\n",
        "- Клиенты кормильцы и не кормильцы "
      ]
    },
    {
      "cell_type": "code",
      "execution_count": 46,
      "id": "e9a14169",
      "metadata": {},
      "outputs": [
        {
          "data": {
            "text/html": [
              "<div>\n",
              "<style scoped>\n",
              "    .dataframe tbody tr th:only-of-type {\n",
              "        vertical-align: middle;\n",
              "    }\n",
              "\n",
              "    .dataframe tbody tr th {\n",
              "        vertical-align: top;\n",
              "    }\n",
              "\n",
              "    .dataframe thead th {\n",
              "        text-align: right;\n",
              "    }\n",
              "</style>\n",
              "<table border=\"1\" class=\"dataframe\">\n",
              "  <thead>\n",
              "    <tr style=\"text-align: right;\">\n",
              "      <th></th>\n",
              "      <th>count</th>\n",
              "      <th>mean</th>\n",
              "      <th>std</th>\n",
              "      <th>min</th>\n",
              "      <th>25%</th>\n",
              "      <th>50%</th>\n",
              "      <th>75%</th>\n",
              "      <th>max</th>\n",
              "    </tr>\n",
              "  </thead>\n",
              "  <tbody>\n",
              "    <tr>\n",
              "      <th>gender</th>\n",
              "      <td>7043.0</td>\n",
              "      <td>0.504756</td>\n",
              "      <td>0.500013</td>\n",
              "      <td>0.00</td>\n",
              "      <td>0.00</td>\n",
              "      <td>1.00</td>\n",
              "      <td>1.00</td>\n",
              "      <td>1.00</td>\n",
              "    </tr>\n",
              "    <tr>\n",
              "      <th>SeniorCitizen</th>\n",
              "      <td>7043.0</td>\n",
              "      <td>0.162147</td>\n",
              "      <td>0.368612</td>\n",
              "      <td>0.00</td>\n",
              "      <td>0.00</td>\n",
              "      <td>0.00</td>\n",
              "      <td>0.00</td>\n",
              "      <td>1.00</td>\n",
              "    </tr>\n",
              "    <tr>\n",
              "      <th>Partner</th>\n",
              "      <td>7043.0</td>\n",
              "      <td>0.483033</td>\n",
              "      <td>0.499748</td>\n",
              "      <td>0.00</td>\n",
              "      <td>0.00</td>\n",
              "      <td>0.00</td>\n",
              "      <td>1.00</td>\n",
              "      <td>1.00</td>\n",
              "    </tr>\n",
              "    <tr>\n",
              "      <th>Dependents</th>\n",
              "      <td>7043.0</td>\n",
              "      <td>0.299588</td>\n",
              "      <td>0.458110</td>\n",
              "      <td>0.00</td>\n",
              "      <td>0.00</td>\n",
              "      <td>0.00</td>\n",
              "      <td>1.00</td>\n",
              "      <td>1.00</td>\n",
              "    </tr>\n",
              "    <tr>\n",
              "      <th>tenure</th>\n",
              "      <td>7043.0</td>\n",
              "      <td>32.371149</td>\n",
              "      <td>24.559481</td>\n",
              "      <td>0.00</td>\n",
              "      <td>9.00</td>\n",
              "      <td>29.00</td>\n",
              "      <td>55.00</td>\n",
              "      <td>72.00</td>\n",
              "    </tr>\n",
              "    <tr>\n",
              "      <th>PhoneService</th>\n",
              "      <td>7043.0</td>\n",
              "      <td>0.903166</td>\n",
              "      <td>0.295752</td>\n",
              "      <td>0.00</td>\n",
              "      <td>1.00</td>\n",
              "      <td>1.00</td>\n",
              "      <td>1.00</td>\n",
              "      <td>1.00</td>\n",
              "    </tr>\n",
              "    <tr>\n",
              "      <th>MultipleLines</th>\n",
              "      <td>7043.0</td>\n",
              "      <td>0.421837</td>\n",
              "      <td>0.493888</td>\n",
              "      <td>0.00</td>\n",
              "      <td>0.00</td>\n",
              "      <td>0.00</td>\n",
              "      <td>1.00</td>\n",
              "      <td>1.00</td>\n",
              "    </tr>\n",
              "    <tr>\n",
              "      <th>InternetService</th>\n",
              "      <td>7043.0</td>\n",
              "      <td>0.872923</td>\n",
              "      <td>0.737796</td>\n",
              "      <td>0.00</td>\n",
              "      <td>0.00</td>\n",
              "      <td>1.00</td>\n",
              "      <td>1.00</td>\n",
              "      <td>2.00</td>\n",
              "    </tr>\n",
              "    <tr>\n",
              "      <th>OnlineSecurity</th>\n",
              "      <td>7043.0</td>\n",
              "      <td>0.286668</td>\n",
              "      <td>0.452237</td>\n",
              "      <td>0.00</td>\n",
              "      <td>0.00</td>\n",
              "      <td>0.00</td>\n",
              "      <td>1.00</td>\n",
              "      <td>1.00</td>\n",
              "    </tr>\n",
              "    <tr>\n",
              "      <th>OnlineBackup</th>\n",
              "      <td>7043.0</td>\n",
              "      <td>0.344881</td>\n",
              "      <td>0.475363</td>\n",
              "      <td>0.00</td>\n",
              "      <td>0.00</td>\n",
              "      <td>0.00</td>\n",
              "      <td>1.00</td>\n",
              "      <td>1.00</td>\n",
              "    </tr>\n",
              "    <tr>\n",
              "      <th>DeviceProtection</th>\n",
              "      <td>7043.0</td>\n",
              "      <td>0.343888</td>\n",
              "      <td>0.475038</td>\n",
              "      <td>0.00</td>\n",
              "      <td>0.00</td>\n",
              "      <td>0.00</td>\n",
              "      <td>1.00</td>\n",
              "      <td>1.00</td>\n",
              "    </tr>\n",
              "    <tr>\n",
              "      <th>TechSupport</th>\n",
              "      <td>7043.0</td>\n",
              "      <td>0.290217</td>\n",
              "      <td>0.453895</td>\n",
              "      <td>0.00</td>\n",
              "      <td>0.00</td>\n",
              "      <td>0.00</td>\n",
              "      <td>1.00</td>\n",
              "      <td>1.00</td>\n",
              "    </tr>\n",
              "    <tr>\n",
              "      <th>StreamingTV</th>\n",
              "      <td>7043.0</td>\n",
              "      <td>0.384353</td>\n",
              "      <td>0.486477</td>\n",
              "      <td>0.00</td>\n",
              "      <td>0.00</td>\n",
              "      <td>0.00</td>\n",
              "      <td>1.00</td>\n",
              "      <td>1.00</td>\n",
              "    </tr>\n",
              "    <tr>\n",
              "      <th>StreamingMovies</th>\n",
              "      <td>7043.0</td>\n",
              "      <td>0.387903</td>\n",
              "      <td>0.487307</td>\n",
              "      <td>0.00</td>\n",
              "      <td>0.00</td>\n",
              "      <td>0.00</td>\n",
              "      <td>1.00</td>\n",
              "      <td>1.00</td>\n",
              "    </tr>\n",
              "    <tr>\n",
              "      <th>Contract</th>\n",
              "      <td>7043.0</td>\n",
              "      <td>0.690473</td>\n",
              "      <td>0.833755</td>\n",
              "      <td>0.00</td>\n",
              "      <td>0.00</td>\n",
              "      <td>0.00</td>\n",
              "      <td>1.00</td>\n",
              "      <td>2.00</td>\n",
              "    </tr>\n",
              "    <tr>\n",
              "      <th>PaperlessBilling</th>\n",
              "      <td>7043.0</td>\n",
              "      <td>0.592219</td>\n",
              "      <td>0.491457</td>\n",
              "      <td>0.00</td>\n",
              "      <td>0.00</td>\n",
              "      <td>1.00</td>\n",
              "      <td>1.00</td>\n",
              "      <td>1.00</td>\n",
              "    </tr>\n",
              "    <tr>\n",
              "      <th>PaymentMethod</th>\n",
              "      <td>7043.0</td>\n",
              "      <td>1.315633</td>\n",
              "      <td>1.148907</td>\n",
              "      <td>0.00</td>\n",
              "      <td>0.00</td>\n",
              "      <td>1.00</td>\n",
              "      <td>2.00</td>\n",
              "      <td>3.00</td>\n",
              "    </tr>\n",
              "    <tr>\n",
              "      <th>MonthlyCharges</th>\n",
              "      <td>7043.0</td>\n",
              "      <td>64.761692</td>\n",
              "      <td>30.090047</td>\n",
              "      <td>18.25</td>\n",
              "      <td>35.50</td>\n",
              "      <td>70.35</td>\n",
              "      <td>89.85</td>\n",
              "      <td>118.75</td>\n",
              "    </tr>\n",
              "    <tr>\n",
              "      <th>TotalCharges</th>\n",
              "      <td>7043.0</td>\n",
              "      <td>2279.734304</td>\n",
              "      <td>2266.794470</td>\n",
              "      <td>0.00</td>\n",
              "      <td>398.55</td>\n",
              "      <td>1394.55</td>\n",
              "      <td>3786.60</td>\n",
              "      <td>8684.80</td>\n",
              "    </tr>\n",
              "    <tr>\n",
              "      <th>Churn</th>\n",
              "      <td>7043.0</td>\n",
              "      <td>0.265370</td>\n",
              "      <td>0.441561</td>\n",
              "      <td>0.00</td>\n",
              "      <td>0.00</td>\n",
              "      <td>0.00</td>\n",
              "      <td>1.00</td>\n",
              "      <td>1.00</td>\n",
              "    </tr>\n",
              "  </tbody>\n",
              "</table>\n",
              "</div>"
            ],
            "text/plain": [
              "                   count         mean          std    min     25%      50%  \\\n",
              "gender            7043.0     0.504756     0.500013   0.00    0.00     1.00   \n",
              "SeniorCitizen     7043.0     0.162147     0.368612   0.00    0.00     0.00   \n",
              "Partner           7043.0     0.483033     0.499748   0.00    0.00     0.00   \n",
              "Dependents        7043.0     0.299588     0.458110   0.00    0.00     0.00   \n",
              "tenure            7043.0    32.371149    24.559481   0.00    9.00    29.00   \n",
              "PhoneService      7043.0     0.903166     0.295752   0.00    1.00     1.00   \n",
              "MultipleLines     7043.0     0.421837     0.493888   0.00    0.00     0.00   \n",
              "InternetService   7043.0     0.872923     0.737796   0.00    0.00     1.00   \n",
              "OnlineSecurity    7043.0     0.286668     0.452237   0.00    0.00     0.00   \n",
              "OnlineBackup      7043.0     0.344881     0.475363   0.00    0.00     0.00   \n",
              "DeviceProtection  7043.0     0.343888     0.475038   0.00    0.00     0.00   \n",
              "TechSupport       7043.0     0.290217     0.453895   0.00    0.00     0.00   \n",
              "StreamingTV       7043.0     0.384353     0.486477   0.00    0.00     0.00   \n",
              "StreamingMovies   7043.0     0.387903     0.487307   0.00    0.00     0.00   \n",
              "Contract          7043.0     0.690473     0.833755   0.00    0.00     0.00   \n",
              "PaperlessBilling  7043.0     0.592219     0.491457   0.00    0.00     1.00   \n",
              "PaymentMethod     7043.0     1.315633     1.148907   0.00    0.00     1.00   \n",
              "MonthlyCharges    7043.0    64.761692    30.090047  18.25   35.50    70.35   \n",
              "TotalCharges      7043.0  2279.734304  2266.794470   0.00  398.55  1394.55   \n",
              "Churn             7043.0     0.265370     0.441561   0.00    0.00     0.00   \n",
              "\n",
              "                      75%      max  \n",
              "gender               1.00     1.00  \n",
              "SeniorCitizen        0.00     1.00  \n",
              "Partner              1.00     1.00  \n",
              "Dependents           1.00     1.00  \n",
              "tenure              55.00    72.00  \n",
              "PhoneService         1.00     1.00  \n",
              "MultipleLines        1.00     1.00  \n",
              "InternetService      1.00     2.00  \n",
              "OnlineSecurity       1.00     1.00  \n",
              "OnlineBackup         1.00     1.00  \n",
              "DeviceProtection     1.00     1.00  \n",
              "TechSupport          1.00     1.00  \n",
              "StreamingTV          1.00     1.00  \n",
              "StreamingMovies      1.00     1.00  \n",
              "Contract             1.00     2.00  \n",
              "PaperlessBilling     1.00     1.00  \n",
              "PaymentMethod        2.00     3.00  \n",
              "MonthlyCharges      89.85   118.75  \n",
              "TotalCharges      3786.60  8684.80  \n",
              "Churn                1.00     1.00  "
            ]
          },
          "execution_count": 46,
          "metadata": {},
          "output_type": "execute_result"
        }
      ],
      "source": [
        "df.describe().T"
      ]
    },
    {
      "cell_type": "markdown",
      "id": "3f764616-e487-4f19-b6b8-25104e3f3195",
      "metadata": {
        "id": "3f764616-e487-4f19-b6b8-25104e3f3195"
      },
      "source": [
        "# Общий вывод"
      ]
    },
    {
      "cell_type": "markdown",
      "id": "3f3c0bce-40e3-4933-92a5-3b3e83b2ec89",
      "metadata": {
        "id": "3f3c0bce-40e3-4933-92a5-3b3e83b2ec89"
      },
      "source": [
        "Опишите данные и результат исследования, основываясь на предыдущих шагах:"
      ]
    },
    {
      "attachments": {},
      "cell_type": "markdown",
      "id": "d8efa465-45b6-4f4d-b11d-fe89361cebcc",
      "metadata": {
        "id": "d8efa465-45b6-4f4d-b11d-fe89361cebcc"
      },
      "source": [
        "- Был произведён анализ данных компании-провайдера. Была произведена проверка на дубликаты и пустые значения. Дубликатов обнаружено не было. Пустые значения не обнаружидись, но в действительности присутствовали в столбце `TotalCharges`. Их удалось обнаружить и устранить путём удаления незначазих проблеов в строке. После чего столбец был конвертирован в числовой тип.\n",
        "1. По результатам анализа данных клиетов было установлено, что в среднем клиент платит `65$` в месяц, а за всё время предоставления услуг клиенты приносят `2280$` в компанию.\n",
        "2. Распределение клиентов по полу является симметричным.\n",
        "3. Большинство клиентов (`~90%`) пользуется интернетом и дополнительными услугами, но каждой конкретной услугой пользуется `<40%` клиентов.\n",
        "4. Большинство клиентов является молодыми людьми.\n",
        "- Была произведена проверка гипотезы того, что среднее количество месяцев, в течение которых клиент оставался в компании, отличается между двумя выборками. Был использован метод `scipy.stats.ttest_ind`, который выполняет двухсторонний тест t-критерия Стьюдента и определяет статистичесекю значимость различий между средними значениями двух независимых выборок. По итогам проверки выяснилось, что эта гипотиза ошибочна, и средние не равны. И что клиенты, которые не ушли, в среднем пользуются услугами компании большее число месяцев.\n",
        "- Были проверены гипотезы о нормальности распределения числовых выборок. Был использован критерий К'2 тест Д'Агостино (а критерий Шапиро-Уилка был исключён из-за превышающего объёма данных). По итогам проверки выяснилось, что ни одна из выборок не является нормальной.\n",
        "- Так же, все проверки гипотез были проиллюстрированы на гистограммах, на которых достоверность результатов видна на глаз."
      ]
    }
  ],
  "metadata": {
    "colab": {
      "provenance": []
    },
    "kernelspec": {
      "display_name": "Python 3",
      "language": "python",
      "name": "python3"
    },
    "language_info": {
      "codemirror_mode": {
        "name": "ipython",
        "version": 3
      },
      "file_extension": ".py",
      "mimetype": "text/x-python",
      "name": "python",
      "nbconvert_exporter": "python",
      "pygments_lexer": "ipython3",
      "version": "3.10.0"
    },
    "papermill": {
      "default_parameters": {},
      "duration": 110.694338,
      "end_time": "2022-09-17T00:14:38.634386",
      "environment_variables": {},
      "exception": null,
      "input_path": "__notebook__.ipynb",
      "output_path": "__notebook__.ipynb",
      "parameters": {},
      "start_time": "2022-09-17T00:12:47.940048",
      "version": "2.3.3"
    },
    "vscode": {
      "interpreter": {
        "hash": "b6a0a59caebf3c1eaa731f4be3eecdb143635d57e530dd9b50ffd29499c81a51"
      }
    }
  },
  "nbformat": 4,
  "nbformat_minor": 5
}
